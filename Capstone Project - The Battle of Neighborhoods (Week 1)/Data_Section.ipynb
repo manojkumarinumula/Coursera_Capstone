{
 "cells": [
  {
   "cell_type": "markdown",
   "metadata": {},
   "source": [
    "## Data Section:"
   ]
  },
  {
   "cell_type": "markdown",
   "metadata": {},
   "source": [
    "For this project we need the following data:\n",
    "\n",
    "1) New York City data that contains list Boroughs, Neighbourhoods along with their latitude and longitude.\n",
    "    \n",
    "   Data source : https://cocl.us/new_york_dataset\n",
    "   \n",
    "   Description: This data set contains the required information. And we will use this dataset to explore various neighbourhoods                 of New York City\n",
    "\n",
    "2) Indian restaurants in each neighbourhood of New York City.\n",
    "\n",
    "   Data source : Foursquare API\n",
    "\n",
    "   Description: By using this API we will get all the venues in each neighbourhood. We can filter these venues to get only                     Indian restaurants.\n",
    "   \n",
    "3) GeoSpace data\n",
    "\n",
    "   Data source : https://data.cityofnewyork.us/City-Government/BoroughBoundaries/tqmj-j8zm\n",
    "   \n",
    "   Description: By using this geo space data we will get the New York Borough boundaries that will help us visualize choropleth                 map.\n"
   ]
  },
  {
   "cell_type": "code",
   "execution_count": null,
   "metadata": {},
   "outputs": [],
   "source": []
  }
 ],
 "metadata": {
  "kernelspec": {
   "display_name": "Python 3",
   "language": "python",
   "name": "python3"
  },
  "language_info": {
   "codemirror_mode": {
    "name": "ipython",
    "version": 3
   },
   "file_extension": ".py",
   "mimetype": "text/x-python",
   "name": "python",
   "nbconvert_exporter": "python",
   "pygments_lexer": "ipython3",
   "version": "3.7.4"
  }
 },
 "nbformat": 4,
 "nbformat_minor": 2
}
