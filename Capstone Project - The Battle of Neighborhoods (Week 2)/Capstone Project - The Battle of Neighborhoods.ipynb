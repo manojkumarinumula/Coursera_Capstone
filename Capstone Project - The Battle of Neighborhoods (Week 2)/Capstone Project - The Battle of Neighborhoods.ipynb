{
 "cells": [
  {
   "cell_type": "markdown",
   "metadata": {},
   "source": [
    "# Analysis of Indian Restaurants in New York"
   ]
  },
  {
   "cell_type": "markdown",
   "metadata": {},
   "source": [
    "## 1. Introduction:"
   ]
  },
  {
   "cell_type": "markdown",
   "metadata": {},
   "source": [
    "New York City's demographics show that it is a large and ethnically diverse metropolis. It is the largest city in the United States with a long history of international immigration. New York City was home to nearly 8.5 million people in 2014, accounting for over 40% of the population of New York State.\n",
    "\n",
    "Indians in the New York City metropolitan region constitute one of the largest and fastest growing ethnicities in the New York City metropolitan area. The New York City region is home to the largest Indian American population among metropolitan areas by a significant margin.\n",
    "\n",
    "Due to large number of Indians in the city, Indian cuisine is very popular in and around New York. The growth in the New York City metropolitan region's Indian populace has been accompanied by growth in the number of Indian restaurants, located both within and outside of traditional Indian enclaves, such that within New York City proper alone, there are hundreds of Indian restaurants."
   ]
  },
  {
   "cell_type": "markdown",
   "metadata": {},
   "source": [
    "## 2. Problem Definition:"
   ]
  },
  {
   "cell_type": "markdown",
   "metadata": {},
   "source": [
    "Looking at all these Indian restaurants we can perform data analysis on them in the following way:-\n",
    "\n",
    "1. Visualize all the parts of New York City that have Indian restaurants.\n",
    "2. Top ranked Indian restaurants in New York City.\n",
    "3. Which areas have best Indian restaurants?\n",
    "4. Which areas lack good Indian restaurants?\n",
    "5. Which all areas have potential Indian restaurant market?\n",
    "6. Which areas are suitable for living if one prefers Indian cuisine?"
   ]
  },
  {
   "cell_type": "markdown",
   "metadata": {},
   "source": [
    "## 3. Data:"
   ]
  },
  {
   "cell_type": "markdown",
   "metadata": {},
   "source": [
    "1. New York City data that contains list Boroughs, Neighbourhoods along with their latitude and longitude from        https://cocl.us/new_york_dataset .\n",
    "2. Indian restaurants in each neighbourhood of New York City using Foursquare API.\n",
    "3. GeoSpace data that will help visualize choropleth map."
   ]
  },
  {
   "cell_type": "markdown",
   "metadata": {},
   "source": [
    "## 4. Methodology:"
   ]
  },
  {
   "cell_type": "markdown",
   "metadata": {},
   "source": [
    "Following steps were followed:-\n",
    "\n",
    "1. First we import New York City Data that contains list Boroughs, Neighbourhoods along with their latitude and longitude from    https://cocl.us/new_york_dataset.\n",
    "2. Using the latitude and longitude, we find venues for each Neighborhood via Foursquare API.\n",
    "3. Then we filter out all the Indian Restaurants.\n",
    "4. Next we retrieve information - Ratings, Likes, Tips for each Indian Restaurant, again by using Foursquare API.\n",
    "5. Perform analysis on the data obtained.\n",
    "6. Visualize the conclusions on the map of New York."
   ]
  },
  {
   "cell_type": "markdown",
   "metadata": {},
   "source": [
    "## 5. Code:"
   ]
  },
  {
   "cell_type": "markdown",
   "metadata": {},
   "source": [
    "### Import necessary libraries"
   ]
  },
  {
   "cell_type": "code",
   "execution_count": 1,
   "metadata": {},
   "outputs": [
    {
     "name": "stdout",
     "output_type": "stream",
     "text": [
      "Libraries imported.\n"
     ]
    }
   ],
   "source": [
    "import pandas as pd\n",
    "import numpy as np\n",
    "pd.set_option('display.max_columns', None)\n",
    "pd.set_option('display.max_rows', None)\n",
    "import requests\n",
    "from bs4 import BeautifulSoup\n",
    "#!pip install geocoder\n",
    "import geocoder\n",
    "import os\n",
    "#!pip install folium\n",
    "import folium # map rendering library\n",
    "from geopy.geocoders import Nominatim # convert an address into latitude and longitude values\n",
    "# Matplotlib and associated plotting modules\n",
    "import matplotlib.pyplot as plt\n",
    "import matplotlib.cm as cm\n",
    "import matplotlib.colors as colors\n",
    "%matplotlib inline\n",
    "\n",
    "\n",
    "print('Libraries imported.')"
   ]
  },
  {
   "cell_type": "markdown",
   "metadata": {},
   "source": [
    "### Variables required for Foursquare API"
   ]
  },
  {
   "cell_type": "code",
   "execution_count": 2,
   "metadata": {},
   "outputs": [
    {
     "name": "stdout",
     "output_type": "stream",
     "text": [
      "Your credentails:\n",
      "CLIENT_ID: T4YEZRF0KPTNT4WZZBWSPFKVV2SQ0INIZUC4CLGFV3QSLIWD\n",
      "CLIENT_SECRET:SKVJUI1OZSTCTMLJJFMQBBLEKNESTZVF4A3ERVIHDSUS4NCB\n"
     ]
    }
   ],
   "source": [
    "CLIENT_ID = 'T4YEZRF0KPTNT4WZZBWSPFKVV2SQ0INIZUC4CLGFV3QSLIWD' # your Foursquare ID\n",
    "CLIENT_SECRET = 'SKVJUI1OZSTCTMLJJFMQBBLEKNESTZVF4A3ERVIHDSUS4NCB' # your Foursquare Secret\n",
    "VERSION = 'YYYYMMDD' # Foursquare API version\n",
    "LIMIT = 100 # A default Foursquare API limit value\n",
    "ACCESS_TOKEN = 'DZZDYAU3QADAGIKT04N5AVLETSZTO2GDSOKS3FXRXS1CE1D0'\n",
    "\n",
    "\n",
    "print('Your credentails:')\n",
    "print('CLIENT_ID: ' + CLIENT_ID)\n",
    "print('CLIENT_SECRET:' + CLIENT_SECRET)"
   ]
  },
  {
   "cell_type": "markdown",
   "metadata": {},
   "source": [
    "### Now we define a function to get the geocodes i.e latitude and longitude of a given location using geopy."
   ]
  },
  {
   "cell_type": "code",
   "execution_count": 3,
   "metadata": {},
   "outputs": [],
   "source": [
    "def geo_location(address):\n",
    "    # get geo location of address\n",
    "    geolocator = Nominatim(user_agent=\"ny_explorer\")\n",
    "    location = geolocator.geocode(address)\n",
    "    latitude = location.latitude\n",
    "    longitude = location.longitude\n",
    "    return latitude,longitude"
   ]
  },
  {
   "cell_type": "markdown",
   "metadata": {},
   "source": [
    "#### We define a function to interact with FourSquare API and get top 100 venues within a radius of 1000 metres for a given latitude and longitude. Below function will return us the venue id , venue name and category."
   ]
  },
  {
   "cell_type": "code",
   "execution_count": 4,
   "metadata": {},
   "outputs": [],
   "source": [
    "def get_venues(lat,lng):\n",
    "    \n",
    "    #set variables\n",
    "    radius=1000\n",
    "    LIMIT=10000\n",
    "    CLIENT_ID = ['CLIENT_ID'] # your Foursquare ID\n",
    "    CLIENT_SECRET = ['CLIENT_SECRET'] # your Foursquare Secret\n",
    "    VERSION = '20180605' # Foursquare API version\n",
    "    ACCESS_TOKEN = 'DZZDYAU3QADAGIKT04N5AVLETSZTO2GDSOKS3FXRXS1CE1D0'\n",
    "    \n",
    "    #url to fetch data from foursquare api\n",
    "   # url = 'https://api.foursquare.com/v2/venues/explore?&client_id={}&client_secret={}&v={}&ll={},{}&radius={}&limit={}'.format(CLIENT_ID, CLIENT_SECRET, VERSION, lat, lng, radius, LIMIT)\n",
    "    url = 'https://api.foursquare.com/v2/venues/explore?&client_id={}&client_secret={}&oauth_token={}&v={}&ll={},{}&radius={}&limit={}'.format(CLIENT_ID, CLIENT_SECRET, ACCESS_TOKEN, VERSION, lat, lng, radius, LIMIT)     \n",
    "    \n",
    "    # get all the data\n",
    "    results = requests.get(url).json()\n",
    "    venue_data=results['response']['groups'][0]['items']\n",
    "    venue_details=[]\n",
    "    for row in venue_data:\n",
    "        try:\n",
    "            venue_id=row['venue']['id']\n",
    "            venue_name=row['venue']['name']\n",
    "            venue_category=row['venue']['categories'][0]['name']\n",
    "            venue_details.append([venue_id,venue_name,venue_category])\n",
    "        except KeyError:\n",
    "            pass\n",
    "        \n",
    "    column_names=['ID','Name','Category']\n",
    "    df = pd.DataFrame(venue_details,columns=column_names)\n",
    "    return df"
   ]
  },
  {
   "cell_type": "markdown",
   "metadata": {},
   "source": [
    "#### Now we will define a function to get venue details like like count , rating , tip counts for a given venue id. This will be used for ranking."
   ]
  },
  {
   "cell_type": "code",
   "execution_count": 5,
   "metadata": {},
   "outputs": [],
   "source": [
    "def get_venue_details(venue_id):\n",
    "        \n",
    "    CLIENT_ID = ['CLIENT_ID'] # your Foursquare ID\n",
    "    CLIENT_SECRET = ['CLIENT_SECRET'] # your Foursquare Secret\n",
    "    VERSION = '20180605' # Foursquare API version\n",
    "    ACCESS_TOKEN = 'DZZDYAU3QADAGIKT04N5AVLETSZTO2GDSOKS3FXRXS1CE1D0'\n",
    "    \n",
    "    #url to fetch data from foursquare api\n",
    "    url = 'https://api.foursquare.com/v2/venues/{}?&client_id={}&client_secret={}&oauth_token={}&v={}'.format(\n",
    "            venue_id,\n",
    "            CLIENT_ID, \n",
    "            CLIENT_SECRET,\n",
    "            ACCESS_TOKEN,\n",
    "            VERSION)\n",
    "    \n",
    "    # get all the data\n",
    "    results = requests.get(url).json()\n",
    "    venue_data=results['response']['venue']\n",
    "    venue_details=[]\n",
    "    try:\n",
    "        venue_id=venue_data['id']\n",
    "        venue_name=venue_data['name']\n",
    "        venue_likes=venue_data['likes']['count']\n",
    "        venue_rating=venue_data['rating']\n",
    "        venue_tips=venue_data['tips']['count']\n",
    "        venue_details.append([venue_id,venue_name,venue_likes,venue_rating,venue_tips])\n",
    "    except KeyError:\n",
    "        pass\n",
    "        \n",
    "    column_names=['ID','Name','Likes','Rating','Tips']\n",
    "    df = pd.DataFrame(venue_details,columns=column_names)\n",
    "    return df"
   ]
  },
  {
   "cell_type": "markdown",
   "metadata": {},
   "source": [
    "#### Now we define a funtion to get the new york city data such as Boroughs, Neighborhoods along with their latitude and longitude."
   ]
  },
  {
   "cell_type": "code",
   "execution_count": 6,
   "metadata": {},
   "outputs": [],
   "source": [
    "def get_new_york_data():\n",
    "    url='https://cocl.us/new_york_dataset'\n",
    "    resp=requests.get(url).json()\n",
    "    # all data is present in features label\n",
    "    features=resp['features']\n",
    "    \n",
    "    # define the dataframe columns\n",
    "    column_names = ['Borough', 'Neighborhood', 'Latitude', 'Longitude'] \n",
    "    # instantiate the dataframe\n",
    "    new_york_data = pd.DataFrame(columns=column_names)\n",
    "    \n",
    "    for data in features:\n",
    "        borough = data['properties']['borough'] \n",
    "        neighborhood_name = data['properties']['name']\n",
    "        \n",
    "        neighborhood_latlon = data['geometry']['coordinates']\n",
    "        neighborhood_lat = neighborhood_latlon[1]\n",
    "        neighborhood_lon = neighborhood_latlon[0]\n",
    "    \n",
    "        new_york_data = new_york_data.append({'Borough': borough,\n",
    "                                          'Neighborhood': neighborhood_name,\n",
    "                                          'Latitude': neighborhood_lat,\n",
    "                                          'Longitude': neighborhood_lon}, ignore_index=True)\n",
    "    \n",
    "    return new_york_data"
   ]
  },
  {
   "cell_type": "code",
   "execution_count": 7,
   "metadata": {},
   "outputs": [],
   "source": [
    "new_york_data=get_new_york_data()"
   ]
  },
  {
   "cell_type": "code",
   "execution_count": 8,
   "metadata": {},
   "outputs": [
    {
     "data": {
      "text/html": [
       "<div>\n",
       "<style scoped>\n",
       "    .dataframe tbody tr th:only-of-type {\n",
       "        vertical-align: middle;\n",
       "    }\n",
       "\n",
       "    .dataframe tbody tr th {\n",
       "        vertical-align: top;\n",
       "    }\n",
       "\n",
       "    .dataframe thead th {\n",
       "        text-align: right;\n",
       "    }\n",
       "</style>\n",
       "<table border=\"1\" class=\"dataframe\">\n",
       "  <thead>\n",
       "    <tr style=\"text-align: right;\">\n",
       "      <th></th>\n",
       "      <th>Borough</th>\n",
       "      <th>Neighborhood</th>\n",
       "      <th>Latitude</th>\n",
       "      <th>Longitude</th>\n",
       "    </tr>\n",
       "  </thead>\n",
       "  <tbody>\n",
       "    <tr>\n",
       "      <td>0</td>\n",
       "      <td>Bronx</td>\n",
       "      <td>Wakefield</td>\n",
       "      <td>40.894705</td>\n",
       "      <td>-73.847201</td>\n",
       "    </tr>\n",
       "    <tr>\n",
       "      <td>1</td>\n",
       "      <td>Bronx</td>\n",
       "      <td>Co-op City</td>\n",
       "      <td>40.874294</td>\n",
       "      <td>-73.829939</td>\n",
       "    </tr>\n",
       "    <tr>\n",
       "      <td>2</td>\n",
       "      <td>Bronx</td>\n",
       "      <td>Eastchester</td>\n",
       "      <td>40.887556</td>\n",
       "      <td>-73.827806</td>\n",
       "    </tr>\n",
       "    <tr>\n",
       "      <td>3</td>\n",
       "      <td>Bronx</td>\n",
       "      <td>Fieldston</td>\n",
       "      <td>40.895437</td>\n",
       "      <td>-73.905643</td>\n",
       "    </tr>\n",
       "    <tr>\n",
       "      <td>4</td>\n",
       "      <td>Bronx</td>\n",
       "      <td>Riverdale</td>\n",
       "      <td>40.890834</td>\n",
       "      <td>-73.912585</td>\n",
       "    </tr>\n",
       "  </tbody>\n",
       "</table>\n",
       "</div>"
      ],
      "text/plain": [
       "  Borough Neighborhood   Latitude  Longitude\n",
       "0   Bronx    Wakefield  40.894705 -73.847201\n",
       "1   Bronx   Co-op City  40.874294 -73.829939\n",
       "2   Bronx  Eastchester  40.887556 -73.827806\n",
       "3   Bronx    Fieldston  40.895437 -73.905643\n",
       "4   Bronx    Riverdale  40.890834 -73.912585"
      ]
     },
     "execution_count": 8,
     "metadata": {},
     "output_type": "execute_result"
    }
   ],
   "source": [
    "new_york_data.head()"
   ]
  },
  {
   "cell_type": "code",
   "execution_count": 24,
   "metadata": {},
   "outputs": [
    {
     "data": {
      "text/plain": [
       "(306, 4)"
      ]
     },
     "execution_count": 24,
     "metadata": {},
     "output_type": "execute_result"
    }
   ],
   "source": [
    "new_york_data.shape"
   ]
  },
  {
   "cell_type": "markdown",
   "metadata": {},
   "source": [
    "### The above result shows that there are 306 different Neighborhoods in New York."
   ]
  },
  {
   "cell_type": "markdown",
   "metadata": {},
   "source": [
    "#### Now let's create a BAR PLOT to show different Neighborhoods in New York."
   ]
  },
  {
   "cell_type": "code",
   "execution_count": 9,
   "metadata": {},
   "outputs": [
    {
     "data": {
      "image/png": "[encoded data removed]",
      "text/plain": [
       "<Figure size 900x500 with 1 Axes>"
      ]
     },
     "metadata": {
      "needs_background": "light"
     },
     "output_type": "display_data"
    }
   ],
   "source": [
    "plt.figure(figsize=(9,5), dpi = 100)\n",
    "# title\n",
    "plt.title('Number of Neighborhood for each Borough in New York City')\n",
    "#On x-axis\n",
    "plt.xlabel('Borough', fontsize = 15)\n",
    "#On y-axis\n",
    "plt.ylabel('No.of Neighborhood', fontsize=15)\n",
    "#giving a bar plot\n",
    "new_york_data.groupby('Borough')['Neighborhood'].count().plot(kind='bar')\n",
    "#legend\n",
    "plt.legend()\n",
    "#displays the plot\n",
    "plt.show()"
   ]
  },
  {
   "cell_type": "markdown",
   "metadata": {},
   "source": [
    "### From the above Bar Plot, we can see that Queens has highest number of neighborhoods."
   ]
  },
  {
   "cell_type": "markdown",
   "metadata": {},
   "source": [
    "#### Retrieving venues in a neighborhood, filtering only those venues that are 'Indian Restaurants' and populating them in a dataframe"
   ]
  },
  {
   "cell_type": "code",
   "execution_count": 10,
   "metadata": {},
   "outputs": [
    {
     "name": "stdout",
     "output_type": "stream",
     "text": [
      "( 1 / 306 ) Indian Resturants in Wakefield, Bronx:0\n",
      "( 2 / 306 ) Indian Resturants in Co-op City, Bronx:0\n",
      "( 3 / 306 ) Indian Resturants in Eastchester, Bronx:0\n",
      "( 4 / 306 ) Indian Resturants in Fieldston, Bronx:0\n",
      "( 5 / 306 ) Indian Resturants in Riverdale, Bronx:1\n",
      "( 6 / 306 ) Indian Resturants in Kingsbridge, Bronx:0\n",
      "( 7 / 306 ) Indian Resturants in Marble Hill, Manhattan:0\n",
      "( 8 / 306 ) Indian Resturants in Woodlawn, Bronx:1\n",
      "( 9 / 306 ) Indian Resturants in Norwood, Bronx:0\n",
      "( 10 / 306 ) Indian Resturants in Williamsbridge, Bronx:0\n",
      "( 11 / 306 ) Indian Resturants in Baychester, Bronx:0\n",
      "( 12 / 306 ) Indian Resturants in Pelham Parkway, Bronx:0\n",
      "( 13 / 306 ) Indian Resturants in City Island, Bronx:0\n",
      "( 14 / 306 ) Indian Resturants in Bedford Park, Bronx:0\n",
      "( 15 / 306 ) Indian Resturants in University Heights, Bronx:0\n",
      "( 16 / 306 ) Indian Resturants in Morris Heights, Bronx:0\n",
      "( 17 / 306 ) Indian Resturants in Fordham, Bronx:0\n",
      "( 18 / 306 ) Indian Resturants in East Tremont, Bronx:0\n",
      "( 19 / 306 ) Indian Resturants in West Farms, Bronx:0\n",
      "( 20 / 306 ) Indian Resturants in High  Bridge, Bronx:0\n",
      "( 21 / 306 ) Indian Resturants in Melrose, Bronx:0\n",
      "( 22 / 306 ) Indian Resturants in Mott Haven, Bronx:0\n",
      "( 23 / 306 ) Indian Resturants in Port Morris, Bronx:0\n",
      "( 24 / 306 ) Indian Resturants in Longwood, Bronx:0\n",
      "( 25 / 306 ) Indian Resturants in Hunts Point, Bronx:0\n",
      "( 26 / 306 ) Indian Resturants in Morrisania, Bronx:0\n",
      "( 27 / 306 ) Indian Resturants in Soundview, Bronx:0\n",
      "( 28 / 306 ) Indian Resturants in Clason Point, Bronx:0\n",
      "( 29 / 306 ) Indian Resturants in Throgs Neck, Bronx:0\n",
      "( 30 / 306 ) Indian Resturants in Country Club, Bronx:0\n",
      "( 31 / 306 ) Indian Resturants in Parkchester, Bronx:1\n",
      "( 32 / 306 ) Indian Resturants in Westchester Square, Bronx:0\n",
      "( 33 / 306 ) Indian Resturants in Van Nest, Bronx:0\n",
      "( 34 / 306 ) Indian Resturants in Morris Park, Bronx:0\n",
      "( 35 / 306 ) Indian Resturants in Belmont, Bronx:0\n",
      "( 36 / 306 ) Indian Resturants in Spuyten Duyvil, Bronx:1\n",
      "( 37 / 306 ) Indian Resturants in North Riverdale, Bronx:0\n",
      "( 38 / 306 ) Indian Resturants in Pelham Bay, Bronx:0\n",
      "( 39 / 306 ) Indian Resturants in Schuylerville, Bronx:0\n",
      "( 40 / 306 ) Indian Resturants in Edgewater Park, Bronx:0\n",
      "( 41 / 306 ) Indian Resturants in Castle Hill, Bronx:0\n",
      "( 42 / 306 ) Indian Resturants in Olinville, Bronx:0\n",
      "( 43 / 306 ) Indian Resturants in Pelham Gardens, Bronx:0\n",
      "( 44 / 306 ) Indian Resturants in Concourse, Bronx:1\n",
      "( 45 / 306 ) Indian Resturants in Unionport, Bronx:1\n",
      "( 46 / 306 ) Indian Resturants in Edenwald, Bronx:0\n",
      "( 47 / 306 ) Indian Resturants in Bay Ridge, Brooklyn:2\n",
      "( 48 / 306 ) Indian Resturants in Bensonhurst, Brooklyn:0\n",
      "( 49 / 306 ) Indian Resturants in Sunset Park, Brooklyn:0\n",
      "( 50 / 306 ) Indian Resturants in Greenpoint, Brooklyn:0\n",
      "( 51 / 306 ) Indian Resturants in Gravesend, Brooklyn:0\n",
      "( 52 / 306 ) Indian Resturants in Brighton Beach, Brooklyn:1\n",
      "( 53 / 306 ) Indian Resturants in Sheepshead Bay, Brooklyn:0\n",
      "( 54 / 306 ) Indian Resturants in Manhattan Terrace, Brooklyn:0\n",
      "( 55 / 306 ) Indian Resturants in Flatbush, Brooklyn:1\n",
      "( 56 / 306 ) Indian Resturants in Crown Heights, Brooklyn:0\n",
      "( 57 / 306 ) Indian Resturants in East Flatbush, Brooklyn:1\n",
      "( 58 / 306 ) Indian Resturants in Kensington, Brooklyn:2\n",
      "( 59 / 306 ) Indian Resturants in Windsor Terrace, Brooklyn:0\n",
      "( 60 / 306 ) Indian Resturants in Prospect Heights, Brooklyn:1\n",
      "( 61 / 306 ) Indian Resturants in Brownsville, Brooklyn:0\n",
      "( 62 / 306 ) Indian Resturants in Williamsburg, Brooklyn:0\n",
      "( 63 / 306 ) Indian Resturants in Bushwick, Brooklyn:0\n",
      "( 64 / 306 ) Indian Resturants in Bedford Stuyvesant, Brooklyn:0\n",
      "( 65 / 306 ) Indian Resturants in Brooklyn Heights, Brooklyn:0\n",
      "( 66 / 306 ) Indian Resturants in Cobble Hill, Brooklyn:0\n",
      "( 67 / 306 ) Indian Resturants in Carroll Gardens, Brooklyn:0\n",
      "( 68 / 306 ) Indian Resturants in Red Hook, Brooklyn:0\n",
      "( 69 / 306 ) Indian Resturants in Gowanus, Brooklyn:1\n",
      "( 70 / 306 ) Indian Resturants in Fort Greene, Brooklyn:1\n",
      "( 71 / 306 ) Indian Resturants in Park Slope, Brooklyn:0\n",
      "( 72 / 306 ) Indian Resturants in Cypress Hills, Brooklyn:0\n",
      "( 73 / 306 ) Indian Resturants in East New York, Brooklyn:0\n",
      "( 74 / 306 ) Indian Resturants in Starrett City, Brooklyn:0\n",
      "( 75 / 306 ) Indian Resturants in Canarsie, Brooklyn:0\n",
      "( 76 / 306 ) Indian Resturants in Flatlands, Brooklyn:0\n",
      "( 77 / 306 ) Indian Resturants in Mill Island, Brooklyn:0\n",
      "( 78 / 306 ) Indian Resturants in Manhattan Beach, Brooklyn:0\n",
      "( 79 / 306 ) Indian Resturants in Coney Island, Brooklyn:0\n",
      "( 80 / 306 ) Indian Resturants in Bath Beach, Brooklyn:0\n",
      "( 81 / 306 ) Indian Resturants in Borough Park, Brooklyn:0\n",
      "( 82 / 306 ) Indian Resturants in Dyker Heights, Brooklyn:0\n",
      "( 83 / 306 ) Indian Resturants in Gerritsen Beach, Brooklyn:0\n",
      "( 84 / 306 ) Indian Resturants in Marine Park, Brooklyn:0\n",
      "( 85 / 306 ) Indian Resturants in Clinton Hill, Brooklyn:2\n",
      "( 86 / 306 ) Indian Resturants in Sea Gate, Brooklyn:0\n",
      "( 87 / 306 ) Indian Resturants in Downtown, Brooklyn:0\n",
      "( 88 / 306 ) Indian Resturants in Boerum Hill, Brooklyn:0\n",
      "( 89 / 306 ) Indian Resturants in Prospect Lefferts Gardens, Brooklyn:3\n",
      "( 90 / 306 ) Indian Resturants in Ocean Hill, Brooklyn:2\n",
      "( 91 / 306 ) Indian Resturants in City Line, Brooklyn:0\n",
      "( 92 / 306 ) Indian Resturants in Bergen Beach, Brooklyn:0\n",
      "( 93 / 306 ) Indian Resturants in Midwood, Brooklyn:0\n",
      "( 94 / 306 ) Indian Resturants in Prospect Park South, Brooklyn:2\n",
      "( 95 / 306 ) Indian Resturants in Georgetown, Brooklyn:0\n",
      "( 96 / 306 ) Indian Resturants in East Williamsburg, Brooklyn:0\n",
      "( 97 / 306 ) Indian Resturants in North Side, Brooklyn:1\n",
      "( 98 / 306 ) Indian Resturants in South Side, Brooklyn:1\n",
      "( 99 / 306 ) Indian Resturants in Ocean Parkway, Brooklyn:0\n",
      "( 100 / 306 ) Indian Resturants in Fort Hamilton, Brooklyn:1\n",
      "( 101 / 306 ) Indian Resturants in Chinatown, Manhattan:0\n",
      "( 102 / 306 ) Indian Resturants in Washington Heights, Manhattan:1\n",
      "( 103 / 306 ) Indian Resturants in Inwood, Manhattan:0\n",
      "( 104 / 306 ) Indian Resturants in Hamilton Heights, Manhattan:2\n",
      "( 105 / 306 ) Indian Resturants in Manhattanville, Manhattan:2\n",
      "( 106 / 306 ) Indian Resturants in Central Harlem, Manhattan:2\n",
      "( 107 / 306 ) Indian Resturants in East Harlem, Manhattan:1\n",
      "( 108 / 306 ) Indian Resturants in Upper East Side, Manhattan:0\n",
      "( 109 / 306 ) Indian Resturants in Yorkville, Manhattan:2\n",
      "( 110 / 306 ) Indian Resturants in Lenox Hill, Manhattan:1\n",
      "( 111 / 306 ) Indian Resturants in Roosevelt Island, Manhattan:1\n",
      "( 112 / 306 ) Indian Resturants in Upper West Side, Manhattan:2\n",
      "( 113 / 306 ) Indian Resturants in Lincoln Square, Manhattan:0\n",
      "( 114 / 306 ) Indian Resturants in Clinton, Manhattan:0\n",
      "( 115 / 306 ) Indian Resturants in Midtown, Manhattan:0\n",
      "( 116 / 306 ) Indian Resturants in Murray Hill, Manhattan:0\n",
      "( 117 / 306 ) Indian Resturants in Chelsea, Manhattan:1\n",
      "( 118 / 306 ) Indian Resturants in Greenwich Village, Manhattan:0\n",
      "( 119 / 306 ) Indian Resturants in East Village, Manhattan:0\n",
      "( 120 / 306 ) Indian Resturants in Lower East Side, Manhattan:0\n",
      "( 121 / 306 ) Indian Resturants in Tribeca, Manhattan:1\n",
      "( 122 / 306 ) Indian Resturants in Little Italy, Manhattan:0\n",
      "( 123 / 306 ) Indian Resturants in Soho, Manhattan:0\n",
      "( 124 / 306 ) Indian Resturants in West Village, Manhattan:2\n",
      "( 125 / 306 ) Indian Resturants in Manhattan Valley, Manhattan:4\n",
      "( 126 / 306 ) Indian Resturants in Morningside Heights, Manhattan:1\n",
      "( 127 / 306 ) Indian Resturants in Gramercy, Manhattan:2\n",
      "( 128 / 306 ) Indian Resturants in Battery Park City, Manhattan:0\n",
      "( 129 / 306 ) Indian Resturants in Financial District, Manhattan:0\n",
      "( 130 / 306 ) Indian Resturants in Astoria, Queens:3\n",
      "( 131 / 306 ) Indian Resturants in Woodside, Queens:6\n",
      "( 132 / 306 ) Indian Resturants in Jackson Heights, Queens:4\n",
      "( 133 / 306 ) Indian Resturants in Elmhurst, Queens:2\n",
      "( 134 / 306 ) Indian Resturants in Howard Beach, Queens:0\n",
      "( 135 / 306 ) Indian Resturants in Corona, Queens:0\n",
      "( 136 / 306 ) Indian Resturants in Forest Hills, Queens:0\n",
      "( 137 / 306 ) Indian Resturants in Kew Gardens, Queens:3\n",
      "( 138 / 306 ) Indian Resturants in Richmond Hill, Queens:8\n",
      "( 139 / 306 ) Indian Resturants in Flushing, Queens:0\n",
      "( 140 / 306 ) Indian Resturants in Long Island City, Queens:2\n",
      "( 141 / 306 ) Indian Resturants in Sunnyside, Queens:1\n",
      "( 142 / 306 ) Indian Resturants in East Elmhurst, Queens:0\n"
     ]
    },
    {
     "name": "stdout",
     "output_type": "stream",
     "text": [
      "( 143 / 306 ) Indian Resturants in Maspeth, Queens:0\n",
      "( 144 / 306 ) Indian Resturants in Ridgewood, Queens:1\n",
      "( 145 / 306 ) Indian Resturants in Glendale, Queens:0\n",
      "( 146 / 306 ) Indian Resturants in Rego Park, Queens:1\n",
      "( 147 / 306 ) Indian Resturants in Woodhaven, Queens:0\n",
      "( 148 / 306 ) Indian Resturants in Ozone Park, Queens:0\n",
      "( 149 / 306 ) Indian Resturants in South Ozone Park, Queens:1\n",
      "( 150 / 306 ) Indian Resturants in College Point, Queens:0\n",
      "( 151 / 306 ) Indian Resturants in Whitestone, Queens:0\n",
      "( 152 / 306 ) Indian Resturants in Bayside, Queens:3\n",
      "( 153 / 306 ) Indian Resturants in Auburndale, Queens:0\n",
      "( 154 / 306 ) Indian Resturants in Little Neck, Queens:0\n",
      "( 155 / 306 ) Indian Resturants in Douglaston, Queens:0\n",
      "( 156 / 306 ) Indian Resturants in Glen Oaks, Queens:4\n",
      "( 157 / 306 ) Indian Resturants in Bellerose, Queens:2\n",
      "( 158 / 306 ) Indian Resturants in Kew Gardens Hills, Queens:1\n",
      "( 159 / 306 ) Indian Resturants in Fresh Meadows, Queens:0\n",
      "( 160 / 306 ) Indian Resturants in Briarwood, Queens:3\n",
      "( 161 / 306 ) Indian Resturants in Jamaica Center, Queens:3\n",
      "( 162 / 306 ) Indian Resturants in Oakland Gardens, Queens:0\n",
      "( 163 / 306 ) Indian Resturants in Queens Village, Queens:0\n",
      "( 164 / 306 ) Indian Resturants in Hollis, Queens:1\n",
      "( 165 / 306 ) Indian Resturants in South Jamaica, Queens:1\n",
      "( 166 / 306 ) Indian Resturants in St. Albans, Queens:0\n",
      "( 167 / 306 ) Indian Resturants in Rochdale, Queens:0\n",
      "( 168 / 306 ) Indian Resturants in Springfield Gardens, Queens:0\n",
      "( 169 / 306 ) Indian Resturants in Cambria Heights, Queens:0\n",
      "( 170 / 306 ) Indian Resturants in Rosedale, Queens:0\n",
      "( 171 / 306 ) Indian Resturants in Far Rockaway, Queens:0\n",
      "( 172 / 306 ) Indian Resturants in Broad Channel, Queens:0\n",
      "( 173 / 306 ) Indian Resturants in Breezy Point, Queens:0\n",
      "( 174 / 306 ) Indian Resturants in Steinway, Queens:1\n",
      "( 175 / 306 ) Indian Resturants in Beechhurst, Queens:0\n",
      "( 176 / 306 ) Indian Resturants in Bay Terrace, Queens:0\n",
      "( 177 / 306 ) Indian Resturants in Edgemere, Queens:0\n",
      "( 178 / 306 ) Indian Resturants in Arverne, Queens:0\n",
      "( 179 / 306 ) Indian Resturants in Rockaway Beach, Queens:0\n",
      "( 180 / 306 ) Indian Resturants in Neponsit, Queens:0\n",
      "( 181 / 306 ) Indian Resturants in Murray Hill, Queens:0\n",
      "( 182 / 306 ) Indian Resturants in Floral Park, Queens:10\n",
      "( 183 / 306 ) Indian Resturants in Holliswood, Queens:1\n",
      "( 184 / 306 ) Indian Resturants in Jamaica Estates, Queens:4\n",
      "( 185 / 306 ) Indian Resturants in Queensboro Hill, Queens:0\n",
      "( 186 / 306 ) Indian Resturants in Hillcrest, Queens:0\n",
      "( 187 / 306 ) Indian Resturants in Ravenswood, Queens:1\n",
      "( 188 / 306 ) Indian Resturants in Lindenwood, Queens:0\n",
      "( 189 / 306 ) Indian Resturants in Laurelton, Queens:0\n",
      "( 190 / 306 ) Indian Resturants in Lefrak City, Queens:0\n",
      "( 191 / 306 ) Indian Resturants in Belle Harbor, Queens:0\n",
      "( 192 / 306 ) Indian Resturants in Rockaway Park, Queens:0\n",
      "( 193 / 306 ) Indian Resturants in Somerville, Queens:0\n",
      "( 194 / 306 ) Indian Resturants in Brookville, Queens:0\n",
      "( 195 / 306 ) Indian Resturants in Bellaire, Queens:0\n",
      "( 196 / 306 ) Indian Resturants in North Corona, Queens:0\n",
      "( 197 / 306 ) Indian Resturants in Forest Hills Gardens, Queens:0\n",
      "( 198 / 306 ) Indian Resturants in St. George, Staten Island:0\n",
      "( 199 / 306 ) Indian Resturants in New Brighton, Staten Island:1\n",
      "( 200 / 306 ) Indian Resturants in Stapleton, Staten Island:0\n",
      "( 201 / 306 ) Indian Resturants in Rosebank, Staten Island:0\n",
      "( 202 / 306 ) Indian Resturants in West Brighton, Staten Island:0\n",
      "( 203 / 306 ) Indian Resturants in Grymes Hill, Staten Island:0\n",
      "( 204 / 306 ) Indian Resturants in Todt Hill, Staten Island:0\n",
      "( 205 / 306 ) Indian Resturants in South Beach, Staten Island:0\n",
      "( 206 / 306 ) Indian Resturants in Port Richmond, Staten Island:0\n",
      "( 207 / 306 ) Indian Resturants in Mariner's Harbor, Staten Island:0\n",
      "( 208 / 306 ) Indian Resturants in Port Ivory, Staten Island:0\n",
      "( 209 / 306 ) Indian Resturants in Castleton Corners, Staten Island:0\n",
      "( 210 / 306 ) Indian Resturants in New Springville, Staten Island:1\n",
      "( 211 / 306 ) Indian Resturants in Travis, Staten Island:0\n",
      "( 212 / 306 ) Indian Resturants in New Dorp, Staten Island:1\n",
      "( 213 / 306 ) Indian Resturants in Oakwood, Staten Island:0\n",
      "( 214 / 306 ) Indian Resturants in Great Kills, Staten Island:0\n",
      "( 215 / 306 ) Indian Resturants in Eltingville, Staten Island:0\n",
      "( 216 / 306 ) Indian Resturants in Annadale, Staten Island:0\n",
      "( 217 / 306 ) Indian Resturants in Woodrow, Staten Island:0\n",
      "( 218 / 306 ) Indian Resturants in Tottenville, Staten Island:0\n",
      "( 219 / 306 ) Indian Resturants in Tompkinsville, Staten Island:1\n",
      "( 220 / 306 ) Indian Resturants in Silver Lake, Staten Island:0\n",
      "( 221 / 306 ) Indian Resturants in Sunnyside, Staten Island:0\n",
      "( 222 / 306 ) Indian Resturants in Ditmas Park, Brooklyn:2\n",
      "( 223 / 306 ) Indian Resturants in Wingate, Brooklyn:0\n",
      "( 224 / 306 ) Indian Resturants in Rugby, Brooklyn:1\n",
      "( 225 / 306 ) Indian Resturants in Park Hill, Staten Island:0\n",
      "( 226 / 306 ) Indian Resturants in Westerleigh, Staten Island:0\n",
      "( 227 / 306 ) Indian Resturants in Graniteville, Staten Island:0\n",
      "( 228 / 306 ) Indian Resturants in Arlington, Staten Island:0\n",
      "( 229 / 306 ) Indian Resturants in Arrochar, Staten Island:0\n",
      "( 230 / 306 ) Indian Resturants in Grasmere, Staten Island:0\n",
      "( 231 / 306 ) Indian Resturants in Old Town, Staten Island:0\n",
      "( 232 / 306 ) Indian Resturants in Dongan Hills, Staten Island:0\n",
      "( 233 / 306 ) Indian Resturants in Midland Beach, Staten Island:0\n",
      "( 234 / 306 ) Indian Resturants in Grant City, Staten Island:1\n",
      "( 235 / 306 ) Indian Resturants in New Dorp Beach, Staten Island:0\n",
      "( 236 / 306 ) Indian Resturants in Bay Terrace, Staten Island:0\n",
      "( 237 / 306 ) Indian Resturants in Huguenot, Staten Island:0\n",
      "( 238 / 306 ) Indian Resturants in Pleasant Plains, Staten Island:0\n",
      "( 239 / 306 ) Indian Resturants in Butler Manor, Staten Island:0\n",
      "( 240 / 306 ) Indian Resturants in Charleston, Staten Island:0\n",
      "( 241 / 306 ) Indian Resturants in Rossville, Staten Island:0\n",
      "( 242 / 306 ) Indian Resturants in Arden Heights, Staten Island:0\n",
      "( 243 / 306 ) Indian Resturants in Greenridge, Staten Island:0\n",
      "( 244 / 306 ) Indian Resturants in Heartland Village, Staten Island:0\n",
      "( 245 / 306 ) Indian Resturants in Chelsea, Staten Island:0\n",
      "( 246 / 306 ) Indian Resturants in Bloomfield, Staten Island:0\n",
      "( 247 / 306 ) Indian Resturants in Bulls Head, Staten Island:0\n",
      "( 248 / 306 ) Indian Resturants in Carnegie Hill, Manhattan:2\n",
      "( 249 / 306 ) Indian Resturants in Noho, Manhattan:0\n",
      "( 250 / 306 ) Indian Resturants in Civic Center, Manhattan:1\n",
      "( 251 / 306 ) Indian Resturants in Midtown South, Manhattan:0\n",
      "( 252 / 306 ) Indian Resturants in Richmond Town, Staten Island:0\n",
      "( 253 / 306 ) Indian Resturants in Shore Acres, Staten Island:0\n",
      "( 254 / 306 ) Indian Resturants in Clifton, Staten Island:0\n",
      "( 255 / 306 ) Indian Resturants in Concord, Staten Island:0\n",
      "( 256 / 306 ) Indian Resturants in Emerson Hill, Staten Island:0\n",
      "( 257 / 306 ) Indian Resturants in Randall Manor, Staten Island:0\n",
      "( 258 / 306 ) Indian Resturants in Howland Hook, Staten Island:0\n",
      "( 259 / 306 ) Indian Resturants in Elm Park, Staten Island:0\n",
      "( 260 / 306 ) Indian Resturants in Remsen Village, Brooklyn:0\n",
      "( 261 / 306 ) Indian Resturants in New Lots, Brooklyn:0\n",
      "( 262 / 306 ) Indian Resturants in Paerdegat Basin, Brooklyn:0\n",
      "( 263 / 306 ) Indian Resturants in Mill Basin, Brooklyn:0\n",
      "( 264 / 306 ) Indian Resturants in Jamaica Hills, Queens:5\n",
      "( 265 / 306 ) Indian Resturants in Utopia, Queens:0\n",
      "( 266 / 306 ) Indian Resturants in Pomonok, Queens:0\n",
      "( 267 / 306 ) Indian Resturants in Astoria Heights, Queens:0\n",
      "( 268 / 306 ) Indian Resturants in Claremont Village, Bronx:0\n",
      "( 269 / 306 ) Indian Resturants in Concourse Village, Bronx:1\n",
      "( 270 / 306 ) Indian Resturants in Mount Eden, Bronx:0\n",
      "( 271 / 306 ) Indian Resturants in Mount Hope, Bronx:0\n",
      "( 272 / 306 ) Indian Resturants in Sutton Place, Manhattan:1\n",
      "( 273 / 306 ) Indian Resturants in Hunters Point, Queens:0\n",
      "( 274 / 306 ) Indian Resturants in Turtle Bay, Manhattan:2\n",
      "( 275 / 306 ) Indian Resturants in Tudor City, Manhattan:1\n",
      "( 276 / 306 ) Indian Resturants in Stuyvesant Town, Manhattan:0\n",
      "( 277 / 306 ) Indian Resturants in Flatiron, Manhattan:0\n",
      "( 278 / 306 ) Indian Resturants in Sunnyside Gardens, Queens:1\n",
      "( 279 / 306 ) Indian Resturants in Blissville, Queens:1\n"
     ]
    },
    {
     "name": "stdout",
     "output_type": "stream",
     "text": [
      "( 280 / 306 ) Indian Resturants in Fulton Ferry, Brooklyn:0\n",
      "( 281 / 306 ) Indian Resturants in Vinegar Hill, Brooklyn:0\n",
      "( 282 / 306 ) Indian Resturants in Weeksville, Brooklyn:0\n",
      "( 283 / 306 ) Indian Resturants in Broadway Junction, Brooklyn:1\n",
      "( 284 / 306 ) Indian Resturants in Dumbo, Brooklyn:0\n",
      "( 285 / 306 ) Indian Resturants in Manor Heights, Staten Island:0\n",
      "( 286 / 306 ) Indian Resturants in Willowbrook, Staten Island:0\n",
      "( 287 / 306 ) Indian Resturants in Sandy Ground, Staten Island:0\n",
      "( 288 / 306 ) Indian Resturants in Egbertville, Staten Island:0\n",
      "( 289 / 306 ) Indian Resturants in Roxbury, Queens:0\n",
      "( 290 / 306 ) Indian Resturants in Homecrest, Brooklyn:0\n",
      "( 291 / 306 ) Indian Resturants in Middle Village, Queens:0\n",
      "( 292 / 306 ) Indian Resturants in Prince's Bay, Staten Island:0\n",
      "( 293 / 306 ) Indian Resturants in Lighthouse Hill, Staten Island:0\n",
      "( 294 / 306 ) Indian Resturants in Richmond Valley, Staten Island:0\n",
      "( 295 / 306 ) Indian Resturants in Malba, Queens:0\n",
      "( 296 / 306 ) Indian Resturants in Highland Park, Brooklyn:0\n",
      "( 297 / 306 ) Indian Resturants in Madison, Brooklyn:0\n",
      "( 298 / 306 ) Indian Resturants in Bronxdale, Bronx:0\n",
      "( 299 / 306 ) Indian Resturants in Allerton, Bronx:0\n",
      "( 300 / 306 ) Indian Resturants in Kingsbridge Heights, Bronx:0\n",
      "( 301 / 306 ) Indian Resturants in Erasmus, Brooklyn:1\n",
      "( 302 / 306 ) Indian Resturants in Hudson Yards, Manhattan:0\n",
      "( 303 / 306 ) Indian Resturants in Hammels, Queens:0\n",
      "( 304 / 306 ) Indian Resturants in Bayswater, Queens:0\n",
      "( 305 / 306 ) Indian Resturants in Queensbridge, Queens:2\n",
      "( 306 / 306 ) Indian Resturants in Fox Hills, Staten Island:0\n"
     ]
    }
   ],
   "source": [
    "# prepare neighborhood list that contains indian resturants\n",
    "column_names=['Borough', 'Neighborhood', 'ID','Name']\n",
    "indian_rest_ny=pd.DataFrame(columns=column_names)\n",
    "count=1\n",
    "for row in new_york_data.values.tolist():\n",
    "    Borough, Neighborhood, Latitude, Longitude=row\n",
    "    venues = get_venues(Latitude,Longitude)\n",
    "    indian_resturants=venues[venues['Category']=='Indian Restaurant']   \n",
    "    print('(',count,'/',len(new_york_data),')','Indian Resturants in '+Neighborhood+', '+Borough+':'+str(len(indian_resturants)))\n",
    "    for resturant_detail in indian_resturants.values.tolist():\n",
    "        id, name , category=resturant_detail\n",
    "        indian_rest_ny = indian_rest_ny.append({'Borough': Borough,\n",
    "                                                'Neighborhood': Neighborhood, \n",
    "                                                'ID': id,\n",
    "                                                'Name' : name\n",
    "                                               }, ignore_index=True)\n",
    "    count+=1"
   ]
  },
  {
   "cell_type": "code",
   "execution_count": 11,
   "metadata": {},
   "outputs": [
    {
     "data": {
      "text/html": [
       "<div>\n",
       "<style scoped>\n",
       "    .dataframe tbody tr th:only-of-type {\n",
       "        vertical-align: middle;\n",
       "    }\n",
       "\n",
       "    .dataframe tbody tr th {\n",
       "        vertical-align: top;\n",
       "    }\n",
       "\n",
       "    .dataframe thead th {\n",
       "        text-align: right;\n",
       "    }\n",
       "</style>\n",
       "<table border=\"1\" class=\"dataframe\">\n",
       "  <thead>\n",
       "    <tr style=\"text-align: right;\">\n",
       "      <th></th>\n",
       "      <th>Borough</th>\n",
       "      <th>Neighborhood</th>\n",
       "      <th>ID</th>\n",
       "      <th>Name</th>\n",
       "    </tr>\n",
       "  </thead>\n",
       "  <tbody>\n",
       "    <tr>\n",
       "      <td>0</td>\n",
       "      <td>Bronx</td>\n",
       "      <td>Riverdale</td>\n",
       "      <td>4c04544df423a593ac83d116</td>\n",
       "      <td>Cumin Indian Cuisine</td>\n",
       "    </tr>\n",
       "    <tr>\n",
       "      <td>1</td>\n",
       "      <td>Bronx</td>\n",
       "      <td>Woodlawn</td>\n",
       "      <td>4c0448d9310fc9b6bf1dc761</td>\n",
       "      <td>Curry Spot</td>\n",
       "    </tr>\n",
       "    <tr>\n",
       "      <td>2</td>\n",
       "      <td>Bronx</td>\n",
       "      <td>Parkchester</td>\n",
       "      <td>4c194631838020a13e78e561</td>\n",
       "      <td>Melanies Roti Bar And Grill</td>\n",
       "    </tr>\n",
       "    <tr>\n",
       "      <td>3</td>\n",
       "      <td>Bronx</td>\n",
       "      <td>Spuyten Duyvil</td>\n",
       "      <td>4c04544df423a593ac83d116</td>\n",
       "      <td>Cumin Indian Cuisine</td>\n",
       "    </tr>\n",
       "    <tr>\n",
       "      <td>4</td>\n",
       "      <td>Bronx</td>\n",
       "      <td>Concourse</td>\n",
       "      <td>551b7f75498e86c00a0ed2e1</td>\n",
       "      <td>Hungry Bird</td>\n",
       "    </tr>\n",
       "  </tbody>\n",
       "</table>\n",
       "</div>"
      ],
      "text/plain": [
       "  Borough    Neighborhood                        ID  \\\n",
       "0   Bronx       Riverdale  4c04544df423a593ac83d116   \n",
       "1   Bronx        Woodlawn  4c0448d9310fc9b6bf1dc761   \n",
       "2   Bronx     Parkchester  4c194631838020a13e78e561   \n",
       "3   Bronx  Spuyten Duyvil  4c04544df423a593ac83d116   \n",
       "4   Bronx       Concourse  551b7f75498e86c00a0ed2e1   \n",
       "\n",
       "                          Name  \n",
       "0         Cumin Indian Cuisine  \n",
       "1                   Curry Spot  \n",
       "2  Melanies Roti Bar And Grill  \n",
       "3         Cumin Indian Cuisine  \n",
       "4                  Hungry Bird  "
      ]
     },
     "execution_count": 11,
     "metadata": {},
     "output_type": "execute_result"
    }
   ],
   "source": [
    "indian_rest_ny.head()"
   ]
  },
  {
   "cell_type": "code",
   "execution_count": 12,
   "metadata": {},
   "outputs": [
    {
     "data": {
      "text/plain": [
       "(147, 4)"
      ]
     },
     "execution_count": 12,
     "metadata": {},
     "output_type": "execute_result"
    }
   ],
   "source": [
    "indian_rest_ny.shape"
   ]
  },
  {
   "cell_type": "markdown",
   "metadata": {},
   "source": [
    "### From the above result, we see that there are 151 Indian Resturants across New York City."
   ]
  },
  {
   "cell_type": "markdown",
   "metadata": {},
   "source": [
    "#### Now let create a BAR PLOT to show Number of Indian Resturants for each Borough in New York City."
   ]
  },
  {
   "cell_type": "code",
   "execution_count": 13,
   "metadata": {},
   "outputs": [
    {
     "data": {
      "image/png": "[encoded data removed]",
      "text/plain": [
       "<Figure size 900x500 with 1 Axes>"
      ]
     },
     "metadata": {
      "needs_background": "light"
     },
     "output_type": "display_data"
    }
   ],
   "source": [
    "plt.figure(figsize=(9,5), dpi = 100)\n",
    "# title\n",
    "plt.title('Number of Indian Resturants for each Borough in New York City')\n",
    "#On x-axis\n",
    "plt.xlabel('Borough', fontsize = 15)\n",
    "#On y-axis\n",
    "plt.ylabel('No.of Indian Resturants', fontsize=15)\n",
    "#giving a bar plot\n",
    "indian_rest_ny.groupby('Borough')['ID'].count().plot(kind='bar')\n",
    "#legend\n",
    "plt.legend()\n",
    "#displays the plot\n",
    "plt.show()\n"
   ]
  },
  {
   "cell_type": "markdown",
   "metadata": {},
   "source": [
    "### From the above Bar Plot, we can see that Queens has highest number of Indian resturants."
   ]
  },
  {
   "cell_type": "markdown",
   "metadata": {},
   "source": [
    "#### Now let create a BAR PLOT to show Number of Indian Resturants for each Neighborhood in New York City."
   ]
  },
  {
   "cell_type": "code",
   "execution_count": 14,
   "metadata": {},
   "outputs": [
    {
     "data": {
      "image/png": "[encoded data removed]",
      "text/plain": [
       "<Figure size 900x500 with 1 Axes>"
      ]
     },
     "metadata": {
      "needs_background": "light"
     },
     "output_type": "display_data"
    }
   ],
   "source": [
    "plt.figure(figsize=(9,5), dpi = 100)\n",
    "# title\n",
    "plt.title('Number of Indian Resturants for each Neighborhood in New York City')\n",
    "#On x-axis\n",
    "plt.xlabel('Neighborhood', fontsize = 15)\n",
    "#On y-axis\n",
    "plt.ylabel('No.of Indian Resturants', fontsize=15)\n",
    "#giving a bar plot\n",
    "indian_rest_ny.groupby('Neighborhood')['ID'].count().nlargest(5).plot(kind='bar')\n",
    "#legend\n",
    "plt.legend()\n",
    "#displays the plot\n",
    "plt.show()"
   ]
  },
  {
   "cell_type": "markdown",
   "metadata": {},
   "source": [
    "#### From the above Bar Plot, we can see that Floral Park has highest number of Indian resturants."
   ]
  },
  {
   "cell_type": "code",
   "execution_count": 15,
   "metadata": {},
   "outputs": [
    {
     "data": {
      "text/html": [
       "<div>\n",
       "<style scoped>\n",
       "    .dataframe tbody tr th:only-of-type {\n",
       "        vertical-align: middle;\n",
       "    }\n",
       "\n",
       "    .dataframe tbody tr th {\n",
       "        vertical-align: top;\n",
       "    }\n",
       "\n",
       "    .dataframe thead th {\n",
       "        text-align: right;\n",
       "    }\n",
       "</style>\n",
       "<table border=\"1\" class=\"dataframe\">\n",
       "  <thead>\n",
       "    <tr style=\"text-align: right;\">\n",
       "      <th></th>\n",
       "      <th>Borough</th>\n",
       "      <th>Neighborhood</th>\n",
       "      <th>ID</th>\n",
       "      <th>Name</th>\n",
       "    </tr>\n",
       "  </thead>\n",
       "  <tbody>\n",
       "    <tr>\n",
       "      <td>104</td>\n",
       "      <td>Queens</td>\n",
       "      <td>Floral Park</td>\n",
       "      <td>527ffc0811d2d329d5e49abd</td>\n",
       "      <td>Jackson Diner</td>\n",
       "    </tr>\n",
       "    <tr>\n",
       "      <td>105</td>\n",
       "      <td>Queens</td>\n",
       "      <td>Floral Park</td>\n",
       "      <td>4e4e3e22bd4101d0d7a5c2d1</td>\n",
       "      <td>Kerala Kitchen</td>\n",
       "    </tr>\n",
       "    <tr>\n",
       "      <td>106</td>\n",
       "      <td>Queens</td>\n",
       "      <td>Floral Park</td>\n",
       "      <td>4b647b56f964a520c4b62ae3</td>\n",
       "      <td>Usha Foods &amp; Usha Sweets</td>\n",
       "    </tr>\n",
       "    <tr>\n",
       "      <td>107</td>\n",
       "      <td>Queens</td>\n",
       "      <td>Floral Park</td>\n",
       "      <td>4b787c49f964a5209cd12ee3</td>\n",
       "      <td>Santoor Indian Restaurant</td>\n",
       "    </tr>\n",
       "    <tr>\n",
       "      <td>108</td>\n",
       "      <td>Queens</td>\n",
       "      <td>Floral Park</td>\n",
       "      <td>4c0c01e0bbc676b00d6b4cd5</td>\n",
       "      <td>Mumbai Xpress</td>\n",
       "    </tr>\n",
       "    <tr>\n",
       "      <td>109</td>\n",
       "      <td>Queens</td>\n",
       "      <td>Floral Park</td>\n",
       "      <td>4c76ff35a5676dcb72671721</td>\n",
       "      <td>Flavor Of India</td>\n",
       "    </tr>\n",
       "    <tr>\n",
       "      <td>110</td>\n",
       "      <td>Queens</td>\n",
       "      <td>Floral Park</td>\n",
       "      <td>4df0f39dd4c04d0392c853ea</td>\n",
       "      <td>Sagar Chinese</td>\n",
       "    </tr>\n",
       "    <tr>\n",
       "      <td>111</td>\n",
       "      <td>Queens</td>\n",
       "      <td>Floral Park</td>\n",
       "      <td>4f4982b0e4b04a413003aaa7</td>\n",
       "      <td>Flavor of India</td>\n",
       "    </tr>\n",
       "    <tr>\n",
       "      <td>112</td>\n",
       "      <td>Queens</td>\n",
       "      <td>Floral Park</td>\n",
       "      <td>4cc642ed306e224b5bf2a76c</td>\n",
       "      <td>Shahi Darbar</td>\n",
       "    </tr>\n",
       "    <tr>\n",
       "      <td>113</td>\n",
       "      <td>Queens</td>\n",
       "      <td>Floral Park</td>\n",
       "      <td>5d06c43cc03635002cc463f2</td>\n",
       "      <td>Honest</td>\n",
       "    </tr>\n",
       "  </tbody>\n",
       "</table>\n",
       "</div>"
      ],
      "text/plain": [
       "    Borough Neighborhood                        ID                       Name\n",
       "104  Queens  Floral Park  527ffc0811d2d329d5e49abd              Jackson Diner\n",
       "105  Queens  Floral Park  4e4e3e22bd4101d0d7a5c2d1             Kerala Kitchen\n",
       "106  Queens  Floral Park  4b647b56f964a520c4b62ae3   Usha Foods & Usha Sweets\n",
       "107  Queens  Floral Park  4b787c49f964a5209cd12ee3  Santoor Indian Restaurant\n",
       "108  Queens  Floral Park  4c0c01e0bbc676b00d6b4cd5              Mumbai Xpress\n",
       "109  Queens  Floral Park  4c76ff35a5676dcb72671721            Flavor Of India\n",
       "110  Queens  Floral Park  4df0f39dd4c04d0392c853ea              Sagar Chinese\n",
       "111  Queens  Floral Park  4f4982b0e4b04a413003aaa7            Flavor of India\n",
       "112  Queens  Floral Park  4cc642ed306e224b5bf2a76c               Shahi Darbar\n",
       "113  Queens  Floral Park  5d06c43cc03635002cc463f2                     Honest"
      ]
     },
     "execution_count": 15,
     "metadata": {},
     "output_type": "execute_result"
    }
   ],
   "source": [
    "indian_rest_ny[indian_rest_ny['Neighborhood']=='Floral Park']"
   ]
  },
  {
   "cell_type": "markdown",
   "metadata": {},
   "source": [
    "#### We can see that, Floral Park in Queens has the highest number of Indian Resturants with a total count of 10."
   ]
  },
  {
   "cell_type": "markdown",
   "metadata": {},
   "source": [
    "#### Now we will get the ranking of each resturant for further analysis."
   ]
  },
  {
   "cell_type": "code",
   "execution_count": 16,
   "metadata": {},
   "outputs": [
    {
     "name": "stdout",
     "output_type": "stream",
     "text": [
      "                         ID                  Name  Likes  Rating  Tips\n",
      "0  4c04544df423a593ac83d116  Cumin Indian Cuisine     13     5.8     9\n",
      "( 1 / 147 ) processed\n",
      "                         ID        Name  Likes  Rating  Tips\n",
      "0  4c0448d9310fc9b6bf1dc761  Curry Spot      5     7.9    10\n",
      "( 2 / 147 ) processed\n",
      "                         ID                         Name  Likes  Rating  Tips\n",
      "0  4c194631838020a13e78e561  Melanies Roti Bar And Grill      3     6.2     2\n",
      "( 3 / 147 ) processed\n",
      "                         ID                  Name  Likes  Rating  Tips\n",
      "0  4c04544df423a593ac83d116  Cumin Indian Cuisine     13     5.8     9\n",
      "( 4 / 147 ) processed\n",
      "                         ID         Name  Likes  Rating  Tips\n",
      "0  551b7f75498e86c00a0ed2e1  Hungry Bird      8     7.2     3\n",
      "( 5 / 147 ) processed\n",
      "                         ID                         Name  Likes  Rating  Tips\n",
      "0  4c194631838020a13e78e561  Melanies Roti Bar And Grill      3     6.2     2\n",
      "( 6 / 147 ) processed\n",
      "                         ID       Name  Likes  Rating  Tips\n",
      "0  4b5a4dc8f964a520a2bb28e3  Taj Mahal     37     8.3    26\n",
      "( 7 / 147 ) processed\n",
      "                         ID          Name  Likes  Rating  Tips\n",
      "0  545835a1498e820edc6f636f  Bombay Grill     14     7.3     4\n",
      "( 8 / 147 ) processed\n",
      "                         ID          Name  Likes  Rating  Tips\n",
      "0  4af0d31bf964a5207ddf21e3  Pak Nasheman      9     7.4     4\n",
      "( 9 / 147 ) processed\n",
      "                         ID          Name  Likes  Rating  Tips\n",
      "0  52213c4211d295d4c57a607c  Ashoka Grill      8     7.3    14\n",
      "( 10 / 147 ) processed\n",
      "                         ID          Name  Likes  Rating  Tips\n",
      "0  512a9ea9e4b004fb8eeb84e5  Silver Krust     13     8.0     3\n",
      "( 11 / 147 ) processed\n",
      "                         ID       Name  Likes  Rating  Tips\n",
      "0  4db0f4371e729fcc56497f20  Mashallah     20     7.6     7\n",
      "( 12 / 147 ) processed\n",
      "                         ID                          Name  Likes  Rating  Tips\n",
      "0  4b718914f964a520c04b2de3  Madina Restaurant and Sweets     17     6.6    13\n",
      "( 13 / 147 ) processed\n",
      "                         ID         Name  Likes  Rating  Tips\n",
      "0  592e1dae345cbe0fc77cf6c9  Diwan Grill     19     8.9     8\n",
      "( 14 / 147 ) processed\n",
      "                         ID                       Name  Likes  Rating  Tips\n",
      "0  52f18573498ec2c34e830ffd  Kanan's Indian Restaurant     24     7.7     8\n",
      "( 15 / 147 ) processed\n",
      "                         ID         Name  Likes  Rating  Tips\n",
      "0  57596dad498e732300496b23  Dosa Royale     78     8.5    24\n",
      "( 16 / 147 ) processed\n",
      "                         ID         Name  Likes  Rating  Tips\n",
      "0  57596dad498e732300496b23  Dosa Royale     78     8.5    24\n",
      "( 17 / 147 ) processed\n",
      "                         ID           Name  Likes  Rating  Tips\n",
      "0  568d3902498e619efcbc3f58  Spice & Grill     21     7.8     6\n",
      "( 18 / 147 ) processed\n",
      "                         ID                        Name  Likes  Rating  Tips\n",
      "0  4bb93b70cf2fc9b6fe64a002  Gandhi Fine Indian Cuisine     83     8.7    49\n",
      "( 19 / 147 ) processed\n",
      "                         ID             Name  Likes  Rating  Tips\n",
      "0  4afdf78bf964a520862c22e3  King of Tandoor     25     7.2    23\n",
      "( 20 / 147 ) processed\n",
      "                         ID     Name  Likes  Rating  Tips\n",
      "0  4ec80587d3e3e131f2e72835  Bayleaf      6     6.8     7\n",
      "( 21 / 147 ) processed\n",
      "                         ID             Name  Likes  Rating  Tips\n",
      "0  5539753f498edbace4746b67  Tandoori Masala     12     7.8     2\n",
      "( 22 / 147 ) processed\n",
      "                         ID           Name  Likes  Rating  Tips\n",
      "0  4f6cae2ee4b0d4a5afcef5c0  Delhi Heights     22     8.0     8\n",
      "( 23 / 147 ) processed\n",
      "                         ID                     Name  Likes  Rating  Tips\n",
      "0  519ff6c8498e1300ddcbd45c  Anarkali Indian Cuisine     14     7.6     8\n",
      "( 24 / 147 ) processed\n",
      "                         ID       Name  Likes  Rating  Tips\n",
      "0  4db0f4371e729fcc56497f20  Mashallah     20     7.6     7\n",
      "( 25 / 147 ) processed\n",
      "                         ID                Name  Likes  Rating  Tips\n",
      "0  5631511b498e3d6d7e0a4df0  Tikka Indian Grill     95     8.4    29\n",
      "( 26 / 147 ) processed\n",
      "                         ID                Name  Likes  Rating  Tips\n",
      "0  5631511b498e3d6d7e0a4df0  Tikka Indian Grill     95     8.4    29\n",
      "( 27 / 147 ) processed\n",
      "                         ID          Name  Likes  Rating  Tips\n",
      "0  545835a1498e820edc6f636f  Bombay Grill     14     7.3     4\n",
      "( 28 / 147 ) processed\n",
      "                         ID                      Name  Likes  Rating  Tips\n",
      "0  4ae7876ef964a5201eac21e3  Kismat Indian Restaurant     46     8.0    25\n",
      "( 29 / 147 ) processed\n",
      "                         ID                           Name  Likes  Rating  \\\n",
      "0  54c2bd96498eaf5142e3fe92  Clove Indian Restaurant & Bar     33     7.9   \n",
      "\n",
      "   Tips  \n",
      "0    17  \n",
      "( 30 / 147 ) processed\n",
      "                         ID           Name  Likes  Rating  Tips\n",
      "0  5914ff32b23dfa207eca38de  Mumbai Masala     14     7.5     7\n",
      "( 31 / 147 ) processed\n",
      "                         ID                 Name  Likes  Rating  Tips\n",
      "0  529d382a11d2dd5ef107e641  Chapati House - NYC     73     8.0    18\n",
      "( 32 / 147 ) processed\n",
      "                         ID                           Name  Likes  Rating  \\\n",
      "0  54c2bd96498eaf5142e3fe92  Clove Indian Restaurant & Bar     33     7.9   \n",
      "\n",
      "   Tips  \n",
      "0    17  \n",
      "( 33 / 147 ) processed\n",
      "                         ID          Name  Likes  Rating  Tips\n",
      "0  56d87f3d498ee215abee5724  Delhi Masala     14     8.4     3\n",
      "( 34 / 147 ) processed\n",
      "                         ID                           Name  Likes  Rating  \\\n",
      "0  54c2bd96498eaf5142e3fe92  Clove Indian Restaurant & Bar     33     7.9   \n",
      "\n",
      "   Tips  \n",
      "0    17  \n",
      "( 35 / 147 ) processed\n",
      "                         ID      Name  Likes  Rating  Tips\n",
      "0  519fe6f5498e30595d370c44  Bawarchi      9     7.5     4\n",
      "( 36 / 147 ) processed\n",
      "                         ID            Name  Likes  Rating  Tips\n",
      "0  5272ca4511d22488f6895caf  Drunken Munkey    212     8.7    61\n",
      "( 37 / 147 ) processed\n",
      "                         ID                    Name  Likes  Rating  Tips\n",
      "0  56ed855a498ef3bb022352c3  Mughlai Indian Cuisine     28     8.3    10\n",
      "( 38 / 147 ) processed\n",
      "                         ID              Name  Likes  Rating  Tips\n",
      "0  4fe4fb50c2eee335e4fea69d  Moti Mahal Delux    186     8.4    83\n",
      "( 39 / 147 ) processed\n",
      "                         ID              Name  Likes  Rating  Tips\n",
      "0  4fe4fb50c2eee335e4fea69d  Moti Mahal Delux    186     8.4    83\n",
      "( 40 / 147 ) processed\n",
      "                         ID    Name  Likes  Rating  Tips\n",
      "0  591890f43abcaf1ddca66e85  Ashoka     22     8.6     9\n",
      "( 41 / 147 ) processed\n",
      "                         ID    Name  Likes  Rating  Tips\n",
      "0  42489a80f964a5208b201fe3  Swagat    108     8.6    40\n",
      "( 42 / 147 ) processed\n",
      "                         ID               Name  Likes  Rating  Tips\n",
      "0  4b4aab62f964a520978c26e3  Dil-e Punjab Deli    110     8.8    44\n",
      "( 43 / 147 ) processed\n",
      "                         ID              Name  Likes  Rating  Tips\n",
      "0  4bbb9dbded7776b0e1ad3e51  Tamarind TriBeCa    600     9.0   150\n",
      "( 44 / 147 ) processed\n",
      "                         ID            Name  Likes  Rating  Tips\n",
      "0  5b5a2c9e66f3cd002ca0aab5  Bombay Bistros     31     9.0     6\n",
      "( 45 / 147 ) processed\n",
      "                         ID  Name  Likes  Rating  Tips\n",
      "0  591794df2be42556988e4a8e  Rahi    119     8.9    25\n",
      "( 46 / 147 ) processed\n",
      "                         ID        Name  Likes  Rating  Tips\n",
      "0  4d24b812836f5481518645f7  Doaba Deli     42     7.8    13\n",
      "( 47 / 147 ) processed\n",
      "                         ID              Name  Likes  Rating  Tips\n",
      "0  424de080f964a520ae201fe3  Manhattan Valley     42     7.9    30\n",
      "( 48 / 147 ) processed\n",
      "                         ID   Name  Likes  Rating  Tips\n",
      "0  538ba1f2498e279098e4210a  Awadh     51     8.0    13\n",
      "( 49 / 147 ) processed\n",
      "                         ID       Name  Likes  Rating  Tips\n",
      "0  49c5ad0af964a5201b571fe3  Roti Roll    116     7.8    58\n",
      "( 50 / 147 ) processed\n",
      "                         ID       Name  Likes  Rating  Tips\n",
      "0  49c5ad0af964a5201b571fe3  Roti Roll    116     7.8    58\n",
      "( 51 / 147 ) processed\n",
      "                         ID                 Name  Likes  Rating  Tips\n",
      "0  4a70a75bf964a52016d81fe3  Bhatti Indian Grill    424     8.8   162\n",
      "( 52 / 147 ) processed\n",
      "                         ID   Name  Likes  Rating  Tips\n",
      "0  57f7cbbe498edf8f07c7ba83  Sahib     59     8.7    13\n",
      "( 53 / 147 ) processed\n"
     ]
    },
    {
     "name": "stdout",
     "output_type": "stream",
     "text": [
      "                         ID       Name  Likes  Rating  Tips\n",
      "0  5d8d9c5e0a2ffc0008f28855  The Gully      7     8.5     4\n",
      "( 54 / 147 ) processed\n",
      "                         ID                 Name  Likes  Rating  Tips\n",
      "0  4aa56c81f964a5204e4820e3  Seva Indian Cuisine    241     9.1   133\n",
      "( 55 / 147 ) processed\n",
      "                         ID                Name  Likes  Rating  Tips\n",
      "0  59b9d25d0d173f3bdf654d77  Tikka Indian Grill      6     8.2     4\n",
      "( 56 / 147 ) processed\n",
      "                         ID                      Name  Likes  Rating  Tips\n",
      "0  4b998d3ff964a520fc8235e3  Maharaja Sweets & Snacks     54     8.4    25\n",
      "( 57 / 147 ) processed\n",
      "                         ID            Name  Likes  Rating  Tips\n",
      "0  4afdcf29f964a520162b22e3  Rajbhog Sweets     36     8.1    25\n",
      "( 58 / 147 ) processed\n",
      "                         ID  Name  Likes  Rating  Tips\n",
      "0  4b189424f964a52043d423e3  Dera     48     7.7    19\n",
      "( 59 / 147 ) processed\n",
      "                         ID      Name  Likes  Rating  Tips\n",
      "0  4c7060e734443704ca0e245f  Kababish     30     7.6    18\n",
      "( 60 / 147 ) processed\n",
      "                         ID                     Name  Likes  Rating  Tips\n",
      "0  5da4fbf091a08400078be19d  Angel Indian Restaurant     10     8.2     2\n",
      "( 61 / 147 ) processed\n",
      "                         ID           Name  Likes  Rating  Tips\n",
      "0  49ebb18ff964a52016671fe3  Delhi Heights     34     7.9    25\n",
      "( 62 / 147 ) processed\n",
      "                         ID     Name  Likes  Rating  Tips\n",
      "0  527d9cbc498edf0db10bde6b  Samudra     49     8.7    16\n",
      "( 63 / 147 ) processed\n",
      "                         ID                      Name  Likes  Rating  Tips\n",
      "0  4b998d3ff964a520fc8235e3  Maharaja Sweets & Snacks     54     8.4    25\n",
      "( 64 / 147 ) processed\n",
      "                         ID                     Name  Likes  Rating  Tips\n",
      "0  5da4fbf091a08400078be19d  Angel Indian Restaurant     10     8.2     2\n",
      "( 65 / 147 ) processed\n",
      "                         ID            Name  Likes  Rating  Tips\n",
      "0  4afdcf29f964a520162b22e3  Rajbhog Sweets     36     8.1    25\n",
      "( 66 / 147 ) processed\n",
      "                         ID     Name  Likes  Rating  Tips\n",
      "0  527d9cbc498edf0db10bde6b  Samudra     49     8.7    16\n",
      "( 67 / 147 ) processed\n",
      "                         ID                     Name  Likes  Rating  Tips\n",
      "0  5da4fbf091a08400078be19d  Angel Indian Restaurant     10     8.2     2\n",
      "( 68 / 147 ) processed\n",
      "                         ID                Name  Likes  Rating  Tips\n",
      "0  5782c9ce498edde587f5aa14  Tikka Indian Grill     10     8.0     2\n",
      "( 69 / 147 ) processed\n",
      "                         ID                   Name  Likes  Rating  Tips\n",
      "0  4bbe78bfba9776b070cefdc8  Mehak Mughlai Cuisine      8     7.8    10\n",
      "( 70 / 147 ) processed\n",
      "                         ID                  Name  Likes  Rating  Tips\n",
      "0  4c954d346b35a143dc0124dc  Indian Curry Express      2     5.9     5\n",
      "( 71 / 147 ) processed\n",
      "                         ID          Name  Likes  Rating  Tips\n",
      "0  4b522029f964a520f26927e3  Sohna Punjab      8     7.6     2\n",
      "( 72 / 147 ) processed\n",
      "                         ID                Name  Likes  Rating  Tips\n",
      "0  5782c9ce498edde587f5aa14  Tikka Indian Grill     10     8.0     2\n",
      "( 73 / 147 ) processed\n",
      "                         ID        Name  Likes  Rating  Tips\n",
      "0  4f1b77d7e4b044fd359e6d21  India Cafe      6     7.2     3\n",
      "( 74 / 147 ) processed\n",
      "                         ID          Name  Likes  Rating  Tips\n",
      "0  4bb2bc48a32876b02e0b01fe  Tandoori Hut      6     6.1    15\n",
      "( 75 / 147 ) processed\n",
      "                         ID                 Name  Likes  Rating  Tips\n",
      "0  4adbaef0f964a520ff2921e3  Punjabi Kabab House      7     6.0     7\n",
      "( 76 / 147 ) processed\n",
      "                         ID                Name  Likes  Rating  Tips\n",
      "0  4babc24ef964a5200ac73ae3  Royal India Palace      7     6.0     3\n",
      "( 77 / 147 ) processed\n",
      "Empty DataFrame\n",
      "Columns: [ID, Name, Likes, Rating, Tips]\n",
      "Index: []\n",
      "No data available for id= 4dfe315cb61c79c463398261\n",
      "( 78 / 147 ) processed\n",
      "Empty DataFrame\n",
      "Columns: [ID, Name, Likes, Rating, Tips]\n",
      "Index: []\n",
      "No data available for id= 4edfae15d3e36374e25707a0\n",
      "( 79 / 147 ) processed\n",
      "                         ID                  Name  Likes  Rating  Tips\n",
      "0  50a287a7e4b0033f830f06db  Raj's Indian Kitchen     25     7.7    13\n",
      "( 80 / 147 ) processed\n",
      "                         ID  Name  Likes  Rating  Tips\n",
      "0  5b931ea69d7468002c3b1382  Adda    130     9.1    35\n",
      "( 81 / 147 ) processed\n",
      "                         ID  Name  Likes  Rating  Tips\n",
      "0  5b931ea69d7468002c3b1382  Adda    130     9.1    35\n",
      "( 82 / 147 ) processed\n",
      "                         ID                        Name  Likes  Rating  Tips\n",
      "0  50e1c9708aca7ff2b3e50353  Nepalese Indian Restaurant     54     8.3    18\n",
      "( 83 / 147 ) processed\n",
      "                         ID               Name  Likes  Rating  Tips\n",
      "0  5625af69498ebbc62b61a382  Aaheli Restaurant     12     7.5     6\n",
      "( 84 / 147 ) processed\n",
      "Empty DataFrame\n",
      "Columns: [ID, Name, Likes, Rating, Tips]\n",
      "Index: []\n",
      "No data available for id= 54c155fb498eaf5142c8b0f1\n",
      "( 85 / 147 ) processed\n",
      "                         ID                         Name  Likes  Rating  Tips\n",
      "0  4f1f4996e4b01ff351a7a50c  Ayna Agra Indian Restaurant     38     8.1    12\n",
      "( 86 / 147 ) processed\n",
      "                         ID        Name  Likes  Rating  Tips\n",
      "0  539a4ff0498e79c6745baba9  Masala Box      9     8.0     2\n",
      "( 87 / 147 ) processed\n",
      "                         ID       Name  Likes  Rating  Tips\n",
      "0  539e27b0498e2eba582085ee  masalabox      7     6.6     2\n",
      "( 88 / 147 ) processed\n",
      "                         ID                       Name  Likes  Rating  Tips\n",
      "0  4b787c49f964a5209cd12ee3  Santoor Indian Restaurant     37     7.4    18\n",
      "( 89 / 147 ) processed\n",
      "                         ID             Name  Likes  Rating  Tips\n",
      "0  4b9030abf964a520397b33e3  Taste of Cochin      9     6.6     4\n",
      "( 90 / 147 ) processed\n",
      "                         ID           Name  Likes  Rating  Tips\n",
      "0  4df0f39dd4c04d0392c853ea  Sagar Chinese      7     6.2     6\n",
      "( 91 / 147 ) processed\n",
      "                         ID          Name  Likes  Rating  Tips\n",
      "0  4c0e256ab1b676b06589e186  Sohna Punjab      3     6.4     3\n",
      "( 92 / 147 ) processed\n",
      "Empty DataFrame\n",
      "Columns: [ID, Name, Likes, Rating, Tips]\n",
      "Index: []\n",
      "No data available for id= 5a775c62a87921125886abc1\n",
      "( 93 / 147 ) processed\n",
      "Empty DataFrame\n",
      "Columns: [ID, Name, Likes, Rating, Tips]\n",
      "Index: []\n",
      "No data available for id= 58131c6d38fa0e8d8034eb16\n",
      "( 94 / 147 ) processed\n",
      "Empty DataFrame\n",
      "Columns: [ID, Name, Likes, Rating, Tips]\n",
      "Index: []\n",
      "No data available for id= 4b96926df964a520abd534e3\n",
      "( 95 / 147 ) processed\n",
      "                         ID                               Name  Likes  Rating  \\\n",
      "0  4be334312fc7d13a7a81083a  Taj Mahal Restaurant & Party Hall     24     7.5   \n",
      "\n",
      "   Tips  \n",
      "0     5  \n",
      "( 96 / 147 ) processed\n",
      "                         ID          Name  Likes  Rating  Tips\n",
      "0  4bad49a0f964a52041423be3  Annam Brahma     15     7.9     3\n",
      "( 97 / 147 ) processed\n",
      "                         ID            Name  Likes  Rating  Tips\n",
      "0  4cc08b0900d83704ed474b5c  Sybil's Bakery      8     6.6     3\n",
      "( 98 / 147 ) processed\n",
      "                         ID          Name  Likes  Rating  Tips\n",
      "0  4bad49a0f964a52041423be3  Annam Brahma     15     7.9     3\n",
      "( 99 / 147 ) processed\n",
      "                         ID              Name  Likes  Rating  Tips\n",
      "0  4c434b2bd691c9b6ef8f8f0a  Sagar Restaurant     10     6.9     6\n",
      "( 100 / 147 ) processed\n",
      "                         ID            Name  Likes  Rating  Tips\n",
      "0  4cc08b0900d83704ed474b5c  Sybil's Bakery      8     6.6     3\n",
      "( 101 / 147 ) processed\n",
      "Empty DataFrame\n",
      "Columns: [ID, Name, Likes, Rating, Tips]\n",
      "Index: []\n",
      "No data available for id= 5dc6040b166b1e00083f41d8\n",
      "( 102 / 147 ) processed\n",
      "Empty DataFrame\n",
      "Columns: [ID, Name, Likes, Rating, Tips]\n",
      "Index: []\n",
      "No data available for id= 4e4e3de8bd4101d0d7a5bca4\n",
      "( 103 / 147 ) processed\n",
      "                         ID                    Name  Likes  Rating  Tips\n",
      "0  562035d9498e2abb4137c2c7  Yaar Indian Restaurant     32     8.5     7\n",
      "( 104 / 147 ) processed\n",
      "                         ID           Name  Likes  Rating  Tips\n",
      "0  527ffc0811d2d329d5e49abd  Jackson Diner      9     8.0     3\n",
      "( 105 / 147 ) processed\n",
      "                         ID            Name  Likes  Rating  Tips\n",
      "0  4e4e3e22bd4101d0d7a5c2d1  Kerala Kitchen      6     8.2     6\n",
      "( 106 / 147 ) processed\n"
     ]
    },
    {
     "name": "stdout",
     "output_type": "stream",
     "text": [
      "                         ID                      Name  Likes  Rating  Tips\n",
      "0  4b647b56f964a520c4b62ae3  Usha Foods & Usha Sweets     34     7.7    10\n",
      "( 107 / 147 ) processed\n",
      "                         ID                       Name  Likes  Rating  Tips\n",
      "0  4b787c49f964a5209cd12ee3  Santoor Indian Restaurant     37     7.4    18\n",
      "( 108 / 147 ) processed\n",
      "                         ID           Name  Likes  Rating  Tips\n",
      "0  4c0c01e0bbc676b00d6b4cd5  Mumbai Xpress     16     6.7    18\n",
      "( 109 / 147 ) processed\n",
      "                         ID             Name  Likes  Rating  Tips\n",
      "0  4c76ff35a5676dcb72671721  Flavor Of India      6     5.8     6\n",
      "( 110 / 147 ) processed\n",
      "                         ID           Name  Likes  Rating  Tips\n",
      "0  4df0f39dd4c04d0392c853ea  Sagar Chinese      7     6.2     6\n",
      "( 111 / 147 ) processed\n",
      "Empty DataFrame\n",
      "Columns: [ID, Name, Likes, Rating, Tips]\n",
      "Index: []\n",
      "No data available for id= 4f4982b0e4b04a413003aaa7\n",
      "( 112 / 147 ) processed\n",
      "Empty DataFrame\n",
      "Columns: [ID, Name, Likes, Rating, Tips]\n",
      "Index: []\n",
      "No data available for id= 4cc642ed306e224b5bf2a76c\n",
      "( 113 / 147 ) processed\n",
      "Empty DataFrame\n",
      "Columns: [ID, Name, Likes, Rating, Tips]\n",
      "Index: []\n",
      "No data available for id= 5d06c43cc03635002cc463f2\n",
      "( 114 / 147 ) processed\n",
      "                         ID                        Name  Likes  Rating  Tips\n",
      "0  4f580c1be4b0bdfd0e7e8102  Rajdhani Indian Restaurant     13     8.2     6\n",
      "( 115 / 147 ) processed\n",
      "                         ID              Name  Likes  Rating  Tips\n",
      "0  4c434b2bd691c9b6ef8f8f0a  Sagar Restaurant     10     6.9     6\n",
      "( 116 / 147 ) processed\n",
      "Empty DataFrame\n",
      "Columns: [ID, Name, Likes, Rating, Tips]\n",
      "Index: []\n",
      "No data available for id= 4c69c4b58e7c0f47d48de00f\n",
      "( 117 / 147 ) processed\n",
      "Empty DataFrame\n",
      "Columns: [ID, Name, Likes, Rating, Tips]\n",
      "Index: []\n",
      "No data available for id= 4c66f1ac8e9120a1b266d964\n",
      "( 118 / 147 ) processed\n",
      "Empty DataFrame\n",
      "Columns: [ID, Name, Likes, Rating, Tips]\n",
      "Index: []\n",
      "No data available for id= 55b7f71a498ea4f9656f52c7\n",
      "( 119 / 147 ) processed\n",
      "                         ID                  Name  Likes  Rating  Tips\n",
      "0  5623f6f9498e5a44a08bfae8  Boishakhi Restaurant     19     8.0     9\n",
      "( 120 / 147 ) processed\n",
      "                         ID         Name  Likes  Rating  Tips\n",
      "0  4b9be038f964a520393036e3  Dosa Garden     18     7.7    17\n",
      "( 121 / 147 ) processed\n",
      "Empty DataFrame\n",
      "Columns: [ID, Name, Likes, Rating, Tips]\n",
      "Index: []\n",
      "No data available for id= 5b7f7002cad1b600393cee1a\n",
      "( 122 / 147 ) processed\n",
      "                         ID               Name  Likes  Rating  Tips\n",
      "0  4be74a502468c928505a0243  Taste Of India II     29     8.2    14\n",
      "( 123 / 147 ) processed\n",
      "                         ID         Name  Likes  Rating  Tips\n",
      "0  4b9be038f964a520393036e3  Dosa Garden     18     7.7    17\n",
      "( 124 / 147 ) processed\n",
      "                         ID       Name  Likes  Rating  Tips\n",
      "0  4db0f4371e729fcc56497f20  Mashallah     20     7.6     7\n",
      "( 125 / 147 ) processed\n",
      "                         ID                     Name  Likes  Rating  Tips\n",
      "0  519ff6c8498e1300ddcbd45c  Anarkali Indian Cuisine     14     7.6     8\n",
      "( 126 / 147 ) processed\n",
      "Empty DataFrame\n",
      "Columns: [ID, Name, Likes, Rating, Tips]\n",
      "Index: []\n",
      "No data available for id= 4c5e06597735c9b6f9f29072\n",
      "( 127 / 147 ) processed\n",
      "                         ID               Name  Likes  Rating  Tips\n",
      "0  4be74a502468c928505a0243  Taste Of India II     29     8.2    14\n",
      "( 128 / 147 ) processed\n",
      "                         ID                    Name  Likes  Rating  Tips\n",
      "0  56ed855a498ef3bb022352c3  Mughlai Indian Cuisine     28     8.3    10\n",
      "( 129 / 147 ) processed\n",
      "                         ID            Name  Likes  Rating  Tips\n",
      "0  5272ca4511d22488f6895caf  Drunken Munkey    212     8.7    61\n",
      "( 130 / 147 ) processed\n",
      "                         ID              Name  Likes  Rating  Tips\n",
      "0  4bbb9dbded7776b0e1ad3e51  Tamarind TriBeCa    600     9.0   150\n",
      "( 131 / 147 ) processed\n",
      "                         ID          Name  Likes  Rating  Tips\n",
      "0  4bad49a0f964a52041423be3  Annam Brahma     15     7.9     3\n",
      "( 132 / 147 ) processed\n",
      "                         ID              Name  Likes  Rating  Tips\n",
      "0  4c434b2bd691c9b6ef8f8f0a  Sagar Restaurant     10     6.9     6\n",
      "( 133 / 147 ) processed\n",
      "                         ID            Name  Likes  Rating  Tips\n",
      "0  4cc08b0900d83704ed474b5c  Sybil's Bakery      8     6.6     3\n",
      "( 134 / 147 ) processed\n",
      "Empty DataFrame\n",
      "Columns: [ID, Name, Likes, Rating, Tips]\n",
      "Index: []\n",
      "No data available for id= 4c69c4b58e7c0f47d48de00f\n",
      "( 135 / 147 ) processed\n",
      "Empty DataFrame\n",
      "Columns: [ID, Name, Likes, Rating, Tips]\n",
      "Index: []\n",
      "No data available for id= 55b7f71a498ea4f9656f52c7\n",
      "( 136 / 147 ) processed\n",
      "                         ID         Name  Likes  Rating  Tips\n",
      "0  551b7f75498e86c00a0ed2e1  Hungry Bird      8     7.2     3\n",
      "( 137 / 147 ) processed\n",
      "                         ID                           Name  Likes  Rating  \\\n",
      "0  4a63bfb4f964a520b3c51fe3  Chola Eclectic Indian Cuisine    155     7.9   \n",
      "\n",
      "   Tips  \n",
      "0    58  \n",
      "( 138 / 147 ) processed\n",
      "                         ID                   Name  Likes  Rating  Tips\n",
      "0  59fcd48c464d6567ed2f5e37  The Kati Roll Company     20     8.7     4\n",
      "( 139 / 147 ) processed\n",
      "                         ID  Name  Likes  Rating  Tips\n",
      "0  4a5b660df964a52015bb1fe3  Amma    101     8.1    67\n",
      "( 140 / 147 ) processed\n",
      "                         ID                   Name  Likes  Rating  Tips\n",
      "0  59fcd48c464d6567ed2f5e37  The Kati Roll Company     20     8.7     4\n",
      "( 141 / 147 ) processed\n",
      "                         ID            Name  Likes  Rating  Tips\n",
      "0  4c48da9f3013a59356c5f0e1  Saffron Garden     17     7.7    16\n",
      "( 142 / 147 ) processed\n",
      "                         ID  Name  Likes  Rating  Tips\n",
      "0  5b931ea69d7468002c3b1382  Adda    130     9.1    35\n",
      "( 143 / 147 ) processed\n",
      "                         ID             Name  Likes  Rating  Tips\n",
      "0  5539753f498edbace4746b67  Tandoori Masala     12     7.8     2\n",
      "( 144 / 147 ) processed\n",
      "                         ID                Name  Likes  Rating  Tips\n",
      "0  564d283d498e6e851df79d87  Great Indian Curry      3     6.1     2\n",
      "( 145 / 147 ) processed\n",
      "                         ID                  Name  Likes  Rating  Tips\n",
      "0  50a287a7e4b0033f830f06db  Raj's Indian Kitchen     25     7.7    13\n",
      "( 146 / 147 ) processed\n",
      "                         ID               Name  Likes  Rating  Tips\n",
      "0  4b1b341bf964a5208af923e3  Five Star Banquet     30     6.8    31\n",
      "( 147 / 147 ) processed\n"
     ]
    }
   ],
   "source": [
    "# prepare neighborhood list that contains indian resturants\n",
    "column_names=['Borough', 'Neighborhood', 'ID','Name','Likes','Rating','Tips']\n",
    "indian_rest_stats_ny=pd.DataFrame(columns=column_names)\n",
    "count=1\n",
    "\n",
    "\n",
    "for row in indian_rest_ny.values.tolist():\n",
    "    Borough,Neighborhood,ID,Name=row\n",
    "    try:\n",
    "        venue_details=get_venue_details(ID)\n",
    "        print(venue_details)\n",
    "        id,name,likes,rating,tips=venue_details.values.tolist()[0]\n",
    "    except IndexError:\n",
    "        print('No data available for id=',ID)\n",
    "        # we will assign 0 value for these resturants as they may have been \n",
    "        #recently opened or details does not exist in FourSquare Database\n",
    "        id,name,likes,rating,tips=[0]*5\n",
    "    print('(',count,'/',len(indian_rest_ny),')','processed')\n",
    "    indian_rest_stats_ny = indian_rest_stats_ny.append({'Borough': Borough,\n",
    "                                                'Neighborhood': Neighborhood, \n",
    "                                                'ID': id,\n",
    "                                                'Name' : name,\n",
    "                                                'Likes' : likes,\n",
    "                                                'Rating' : rating,\n",
    "                                                'Tips' : tips\n",
    "                                               }, ignore_index=True)\n",
    "    count+=1"
   ]
  },
  {
   "cell_type": "code",
   "execution_count": 17,
   "metadata": {},
   "outputs": [
    {
     "data": {
      "text/html": [
       "<div>\n",
       "<style scoped>\n",
       "    .dataframe tbody tr th:only-of-type {\n",
       "        vertical-align: middle;\n",
       "    }\n",
       "\n",
       "    .dataframe tbody tr th {\n",
       "        vertical-align: top;\n",
       "    }\n",
       "\n",
       "    .dataframe thead th {\n",
       "        text-align: right;\n",
       "    }\n",
       "</style>\n",
       "<table border=\"1\" class=\"dataframe\">\n",
       "  <thead>\n",
       "    <tr style=\"text-align: right;\">\n",
       "      <th></th>\n",
       "      <th>Borough</th>\n",
       "      <th>Neighborhood</th>\n",
       "      <th>ID</th>\n",
       "      <th>Name</th>\n",
       "      <th>Likes</th>\n",
       "      <th>Rating</th>\n",
       "      <th>Tips</th>\n",
       "    </tr>\n",
       "  </thead>\n",
       "  <tbody>\n",
       "    <tr>\n",
       "      <td>0</td>\n",
       "      <td>Bronx</td>\n",
       "      <td>Riverdale</td>\n",
       "      <td>4c04544df423a593ac83d116</td>\n",
       "      <td>Cumin Indian Cuisine</td>\n",
       "      <td>13</td>\n",
       "      <td>5.8</td>\n",
       "      <td>9</td>\n",
       "    </tr>\n",
       "    <tr>\n",
       "      <td>1</td>\n",
       "      <td>Bronx</td>\n",
       "      <td>Woodlawn</td>\n",
       "      <td>4c0448d9310fc9b6bf1dc761</td>\n",
       "      <td>Curry Spot</td>\n",
       "      <td>5</td>\n",
       "      <td>7.9</td>\n",
       "      <td>10</td>\n",
       "    </tr>\n",
       "    <tr>\n",
       "      <td>2</td>\n",
       "      <td>Bronx</td>\n",
       "      <td>Parkchester</td>\n",
       "      <td>4c194631838020a13e78e561</td>\n",
       "      <td>Melanies Roti Bar And Grill</td>\n",
       "      <td>3</td>\n",
       "      <td>6.2</td>\n",
       "      <td>2</td>\n",
       "    </tr>\n",
       "    <tr>\n",
       "      <td>3</td>\n",
       "      <td>Bronx</td>\n",
       "      <td>Spuyten Duyvil</td>\n",
       "      <td>4c04544df423a593ac83d116</td>\n",
       "      <td>Cumin Indian Cuisine</td>\n",
       "      <td>13</td>\n",
       "      <td>5.8</td>\n",
       "      <td>9</td>\n",
       "    </tr>\n",
       "    <tr>\n",
       "      <td>4</td>\n",
       "      <td>Bronx</td>\n",
       "      <td>Concourse</td>\n",
       "      <td>551b7f75498e86c00a0ed2e1</td>\n",
       "      <td>Hungry Bird</td>\n",
       "      <td>8</td>\n",
       "      <td>7.2</td>\n",
       "      <td>3</td>\n",
       "    </tr>\n",
       "  </tbody>\n",
       "</table>\n",
       "</div>"
      ],
      "text/plain": [
       "  Borough    Neighborhood                        ID  \\\n",
       "0   Bronx       Riverdale  4c04544df423a593ac83d116   \n",
       "1   Bronx        Woodlawn  4c0448d9310fc9b6bf1dc761   \n",
       "2   Bronx     Parkchester  4c194631838020a13e78e561   \n",
       "3   Bronx  Spuyten Duyvil  4c04544df423a593ac83d116   \n",
       "4   Bronx       Concourse  551b7f75498e86c00a0ed2e1   \n",
       "\n",
       "                          Name Likes  Rating Tips  \n",
       "0         Cumin Indian Cuisine    13     5.8    9  \n",
       "1                   Curry Spot     5     7.9   10  \n",
       "2  Melanies Roti Bar And Grill     3     6.2    2  \n",
       "3         Cumin Indian Cuisine    13     5.8    9  \n",
       "4                  Hungry Bird     8     7.2    3  "
      ]
     },
     "execution_count": 17,
     "metadata": {},
     "output_type": "execute_result"
    }
   ],
   "source": [
    "indian_rest_stats_ny.head()"
   ]
  },
  {
   "cell_type": "code",
   "execution_count": 18,
   "metadata": {},
   "outputs": [
    {
     "data": {
      "text/plain": [
       "(147, 7)"
      ]
     },
     "execution_count": 18,
     "metadata": {},
     "output_type": "execute_result"
    }
   ],
   "source": [
    "indian_rest_stats_ny.shape"
   ]
  },
  {
   "cell_type": "code",
   "execution_count": 19,
   "metadata": {},
   "outputs": [
    {
     "data": {
      "text/plain": [
       "(147, 4)"
      ]
     },
     "execution_count": 19,
     "metadata": {},
     "output_type": "execute_result"
    }
   ],
   "source": [
    "indian_rest_ny.shape"
   ]
  },
  {
   "cell_type": "markdown",
   "metadata": {},
   "source": [
    "#### Now that we got data for all resturants Now lets save this data to a csv sheet."
   ]
  },
  {
   "cell_type": "code",
   "execution_count": 20,
   "metadata": {},
   "outputs": [],
   "source": [
    "indian_rest_stats_ny.to_csv('indian_rest_stats_ny.csv', index=False)"
   ]
  },
  {
   "cell_type": "code",
   "execution_count": 21,
   "metadata": {},
   "outputs": [],
   "source": [
    "indian_rest_stats_ny_csv=pd.read_csv('indian_rest_stats_ny.csv')"
   ]
  },
  {
   "cell_type": "code",
   "execution_count": 22,
   "metadata": {},
   "outputs": [
    {
     "data": {
      "text/plain": [
       "(147, 7)"
      ]
     },
     "execution_count": 22,
     "metadata": {},
     "output_type": "execute_result"
    }
   ],
   "source": [
    "indian_rest_stats_ny_csv.shape"
   ]
  },
  {
   "cell_type": "code",
   "execution_count": 23,
   "metadata": {},
   "outputs": [
    {
     "data": {
      "text/html": [
       "<div>\n",
       "<style scoped>\n",
       "    .dataframe tbody tr th:only-of-type {\n",
       "        vertical-align: middle;\n",
       "    }\n",
       "\n",
       "    .dataframe tbody tr th {\n",
       "        vertical-align: top;\n",
       "    }\n",
       "\n",
       "    .dataframe thead th {\n",
       "        text-align: right;\n",
       "    }\n",
       "</style>\n",
       "<table border=\"1\" class=\"dataframe\">\n",
       "  <thead>\n",
       "    <tr style=\"text-align: right;\">\n",
       "      <th></th>\n",
       "      <th>Borough</th>\n",
       "      <th>Neighborhood</th>\n",
       "      <th>ID</th>\n",
       "      <th>Name</th>\n",
       "      <th>Likes</th>\n",
       "      <th>Rating</th>\n",
       "      <th>Tips</th>\n",
       "    </tr>\n",
       "  </thead>\n",
       "  <tbody>\n",
       "    <tr>\n",
       "      <td>0</td>\n",
       "      <td>Bronx</td>\n",
       "      <td>Riverdale</td>\n",
       "      <td>4c04544df423a593ac83d116</td>\n",
       "      <td>Cumin Indian Cuisine</td>\n",
       "      <td>13</td>\n",
       "      <td>5.8</td>\n",
       "      <td>9</td>\n",
       "    </tr>\n",
       "    <tr>\n",
       "      <td>1</td>\n",
       "      <td>Bronx</td>\n",
       "      <td>Woodlawn</td>\n",
       "      <td>4c0448d9310fc9b6bf1dc761</td>\n",
       "      <td>Curry Spot</td>\n",
       "      <td>5</td>\n",
       "      <td>7.9</td>\n",
       "      <td>10</td>\n",
       "    </tr>\n",
       "    <tr>\n",
       "      <td>2</td>\n",
       "      <td>Bronx</td>\n",
       "      <td>Parkchester</td>\n",
       "      <td>4c194631838020a13e78e561</td>\n",
       "      <td>Melanies Roti Bar And Grill</td>\n",
       "      <td>3</td>\n",
       "      <td>6.2</td>\n",
       "      <td>2</td>\n",
       "    </tr>\n",
       "    <tr>\n",
       "      <td>3</td>\n",
       "      <td>Bronx</td>\n",
       "      <td>Spuyten Duyvil</td>\n",
       "      <td>4c04544df423a593ac83d116</td>\n",
       "      <td>Cumin Indian Cuisine</td>\n",
       "      <td>13</td>\n",
       "      <td>5.8</td>\n",
       "      <td>9</td>\n",
       "    </tr>\n",
       "    <tr>\n",
       "      <td>4</td>\n",
       "      <td>Bronx</td>\n",
       "      <td>Concourse</td>\n",
       "      <td>551b7f75498e86c00a0ed2e1</td>\n",
       "      <td>Hungry Bird</td>\n",
       "      <td>8</td>\n",
       "      <td>7.2</td>\n",
       "      <td>3</td>\n",
       "    </tr>\n",
       "  </tbody>\n",
       "</table>\n",
       "</div>"
      ],
      "text/plain": [
       "  Borough    Neighborhood                        ID  \\\n",
       "0   Bronx       Riverdale  4c04544df423a593ac83d116   \n",
       "1   Bronx        Woodlawn  4c0448d9310fc9b6bf1dc761   \n",
       "2   Bronx     Parkchester  4c194631838020a13e78e561   \n",
       "3   Bronx  Spuyten Duyvil  4c04544df423a593ac83d116   \n",
       "4   Bronx       Concourse  551b7f75498e86c00a0ed2e1   \n",
       "\n",
       "                          Name  Likes  Rating  Tips  \n",
       "0         Cumin Indian Cuisine     13     5.8     9  \n",
       "1                   Curry Spot      5     7.9    10  \n",
       "2  Melanies Roti Bar And Grill      3     6.2     2  \n",
       "3         Cumin Indian Cuisine     13     5.8     9  \n",
       "4                  Hungry Bird      8     7.2     3  "
      ]
     },
     "execution_count": 23,
     "metadata": {},
     "output_type": "execute_result"
    }
   ],
   "source": [
    "indian_rest_stats_ny_csv.head()"
   ]
  },
  {
   "cell_type": "code",
   "execution_count": 24,
   "metadata": {},
   "outputs": [
    {
     "name": "stdout",
     "output_type": "stream",
     "text": [
      "<class 'pandas.core.frame.DataFrame'>\n",
      "RangeIndex: 147 entries, 0 to 146\n",
      "Data columns (total 7 columns):\n",
      "Borough         147 non-null object\n",
      "Neighborhood    147 non-null object\n",
      "ID              147 non-null object\n",
      "Name            147 non-null object\n",
      "Likes           147 non-null object\n",
      "Rating          147 non-null float64\n",
      "Tips            147 non-null object\n",
      "dtypes: float64(1), object(6)\n",
      "memory usage: 8.2+ KB\n"
     ]
    }
   ],
   "source": [
    "indian_rest_stats_ny.info()"
   ]
  },
  {
   "cell_type": "markdown",
   "metadata": {},
   "source": [
    "#### The Data type of 'Likes' and 'Tips' are of type 'String'. we will convert them into type 'Float' for further analysis."
   ]
  },
  {
   "cell_type": "code",
   "execution_count": 25,
   "metadata": {},
   "outputs": [],
   "source": [
    "indian_rest_stats_ny['Likes']=indian_rest_stats_ny['Likes'].astype('float64')\n",
    "indian_rest_stats_ny['Tips']=indian_rest_stats_ny['Tips'].astype('float64')"
   ]
  },
  {
   "cell_type": "code",
   "execution_count": 26,
   "metadata": {},
   "outputs": [
    {
     "name": "stdout",
     "output_type": "stream",
     "text": [
      "<class 'pandas.core.frame.DataFrame'>\n",
      "RangeIndex: 147 entries, 0 to 146\n",
      "Data columns (total 7 columns):\n",
      "Borough         147 non-null object\n",
      "Neighborhood    147 non-null object\n",
      "ID              147 non-null object\n",
      "Name            147 non-null object\n",
      "Likes           147 non-null float64\n",
      "Rating          147 non-null float64\n",
      "Tips            147 non-null float64\n",
      "dtypes: float64(3), object(4)\n",
      "memory usage: 8.2+ KB\n"
     ]
    }
   ],
   "source": [
    "indian_rest_stats_ny.info()"
   ]
  },
  {
   "cell_type": "markdown",
   "metadata": {},
   "source": [
    "#### Now we will find the Indian restuarants with Maximum Likes, Maximum Ratings and Maximum Tips."
   ]
  },
  {
   "cell_type": "code",
   "execution_count": 27,
   "metadata": {},
   "outputs": [
    {
     "data": {
      "text/plain": [
       "Borough                        Manhattan\n",
       "Neighborhood                     Tribeca\n",
       "ID              4bbb9dbded7776b0e1ad3e51\n",
       "Name                    Tamarind TriBeCa\n",
       "Likes                                600\n",
       "Rating                                 9\n",
       "Tips                                 150\n",
       "Name: 43, dtype: object"
      ]
     },
     "execution_count": 27,
     "metadata": {},
     "output_type": "execute_result"
    }
   ],
   "source": [
    "# Resturant with maximum Likes\n",
    "indian_rest_stats_ny.iloc[indian_rest_stats_ny['Likes'].idxmax()]"
   ]
  },
  {
   "cell_type": "code",
   "execution_count": 28,
   "metadata": {},
   "outputs": [
    {
     "data": {
      "text/plain": [
       "Borough                           Queens\n",
       "Neighborhood                     Astoria\n",
       "ID              4aa56c81f964a5204e4820e3\n",
       "Name                 Seva Indian Cuisine\n",
       "Likes                                241\n",
       "Rating                               9.1\n",
       "Tips                                 133\n",
       "Name: 54, dtype: object"
      ]
     },
     "execution_count": 28,
     "metadata": {},
     "output_type": "execute_result"
    }
   ],
   "source": [
    "# Resturant with maximum Rating\n",
    "indian_rest_stats_ny.iloc[indian_rest_stats_ny['Rating'].idxmax()]"
   ]
  },
  {
   "cell_type": "code",
   "execution_count": 29,
   "metadata": {},
   "outputs": [
    {
     "data": {
      "text/plain": [
       "Borough                        Manhattan\n",
       "Neighborhood                    Gramercy\n",
       "ID              4a70a75bf964a52016d81fe3\n",
       "Name                 Bhatti Indian Grill\n",
       "Likes                                424\n",
       "Rating                               8.8\n",
       "Tips                                 162\n",
       "Name: 51, dtype: object"
      ]
     },
     "execution_count": 29,
     "metadata": {},
     "output_type": "execute_result"
    }
   ],
   "source": [
    "# Resturant with maximum Tips\n",
    "indian_rest_stats_ny.iloc[indian_rest_stats_ny['Tips'].idxmax()]"
   ]
  },
  {
   "cell_type": "markdown",
   "metadata": {},
   "source": [
    "#### Next lets visualize neighborhood with maximum average rating of resturants."
   ]
  },
  {
   "cell_type": "code",
   "execution_count": 30,
   "metadata": {},
   "outputs": [],
   "source": [
    "ny_neighborhood_stats=indian_rest_stats_ny.groupby('Neighborhood',as_index=False).mean()[['Neighborhood','Rating']]\n",
    "ny_neighborhood_stats.columns=['Neighborhood','Average Rating']"
   ]
  },
  {
   "cell_type": "code",
   "execution_count": 31,
   "metadata": {},
   "outputs": [
    {
     "data": {
      "text/html": [
       "<div>\n",
       "<style scoped>\n",
       "    .dataframe tbody tr th:only-of-type {\n",
       "        vertical-align: middle;\n",
       "    }\n",
       "\n",
       "    .dataframe tbody tr th {\n",
       "        vertical-align: top;\n",
       "    }\n",
       "\n",
       "    .dataframe thead th {\n",
       "        text-align: right;\n",
       "    }\n",
       "</style>\n",
       "<table border=\"1\" class=\"dataframe\">\n",
       "  <thead>\n",
       "    <tr style=\"text-align: right;\">\n",
       "      <th></th>\n",
       "      <th>Neighborhood</th>\n",
       "      <th>Average Rating</th>\n",
       "    </tr>\n",
       "  </thead>\n",
       "  <tbody>\n",
       "    <tr>\n",
       "      <td>4</td>\n",
       "      <td>Blissville</td>\n",
       "      <td>9.10</td>\n",
       "    </tr>\n",
       "    <tr>\n",
       "      <td>65</td>\n",
       "      <td>Sunnyside</td>\n",
       "      <td>9.10</td>\n",
       "    </tr>\n",
       "    <tr>\n",
       "      <td>69</td>\n",
       "      <td>Tribeca</td>\n",
       "      <td>9.00</td>\n",
       "    </tr>\n",
       "    <tr>\n",
       "      <td>11</td>\n",
       "      <td>Civic Center</td>\n",
       "      <td>9.00</td>\n",
       "    </tr>\n",
       "    <tr>\n",
       "      <td>75</td>\n",
       "      <td>West Village</td>\n",
       "      <td>8.95</td>\n",
       "    </tr>\n",
       "    <tr>\n",
       "      <td>49</td>\n",
       "      <td>Prospect Heights</td>\n",
       "      <td>8.90</td>\n",
       "    </tr>\n",
       "    <tr>\n",
       "      <td>10</td>\n",
       "      <td>Chelsea</td>\n",
       "      <td>8.80</td>\n",
       "    </tr>\n",
       "    <tr>\n",
       "      <td>26</td>\n",
       "      <td>Gramercy</td>\n",
       "      <td>8.75</td>\n",
       "    </tr>\n",
       "    <tr>\n",
       "      <td>70</td>\n",
       "      <td>Tudor City</td>\n",
       "      <td>8.70</td>\n",
       "    </tr>\n",
       "    <tr>\n",
       "      <td>0</td>\n",
       "      <td>Astoria</td>\n",
       "      <td>8.60</td>\n",
       "    </tr>\n",
       "  </tbody>\n",
       "</table>\n",
       "</div>"
      ],
      "text/plain": [
       "        Neighborhood  Average Rating\n",
       "4         Blissville            9.10\n",
       "65         Sunnyside            9.10\n",
       "69           Tribeca            9.00\n",
       "11      Civic Center            9.00\n",
       "75      West Village            8.95\n",
       "49  Prospect Heights            8.90\n",
       "10           Chelsea            8.80\n",
       "26          Gramercy            8.75\n",
       "70        Tudor City            8.70\n",
       "0            Astoria            8.60"
      ]
     },
     "execution_count": 31,
     "metadata": {},
     "output_type": "execute_result"
    }
   ],
   "source": [
    "ny_neighborhood_stats.sort_values(['Average Rating'],ascending=False).head(10)"
   ]
  },
  {
   "cell_type": "markdown",
   "metadata": {},
   "source": [
    "#### Similarly we will find the average rating of Indian Resturants for each Borough."
   ]
  },
  {
   "cell_type": "code",
   "execution_count": 32,
   "metadata": {},
   "outputs": [],
   "source": [
    "ny_borough_stats=indian_rest_stats_ny.groupby('Borough',as_index=False).mean()[['Borough','Rating']]\n",
    "ny_borough_stats.columns=['Borough','Average Rating']"
   ]
  },
  {
   "cell_type": "code",
   "execution_count": 33,
   "metadata": {},
   "outputs": [
    {
     "data": {
      "text/html": [
       "<div>\n",
       "<style scoped>\n",
       "    .dataframe tbody tr th:only-of-type {\n",
       "        vertical-align: middle;\n",
       "    }\n",
       "\n",
       "    .dataframe tbody tr th {\n",
       "        vertical-align: top;\n",
       "    }\n",
       "\n",
       "    .dataframe thead th {\n",
       "        text-align: right;\n",
       "    }\n",
       "</style>\n",
       "<table border=\"1\" class=\"dataframe\">\n",
       "  <thead>\n",
       "    <tr style=\"text-align: right;\">\n",
       "      <th></th>\n",
       "      <th>Borough</th>\n",
       "      <th>Average Rating</th>\n",
       "    </tr>\n",
       "  </thead>\n",
       "  <tbody>\n",
       "    <tr>\n",
       "      <td>2</td>\n",
       "      <td>Manhattan</td>\n",
       "      <td>8.312500</td>\n",
       "    </tr>\n",
       "    <tr>\n",
       "      <td>1</td>\n",
       "      <td>Brooklyn</td>\n",
       "      <td>7.437037</td>\n",
       "    </tr>\n",
       "    <tr>\n",
       "      <td>0</td>\n",
       "      <td>Bronx</td>\n",
       "      <td>6.614286</td>\n",
       "    </tr>\n",
       "    <tr>\n",
       "      <td>4</td>\n",
       "      <td>Staten Island</td>\n",
       "      <td>6.360000</td>\n",
       "    </tr>\n",
       "    <tr>\n",
       "      <td>3</td>\n",
       "      <td>Queens</td>\n",
       "      <td>5.990789</td>\n",
       "    </tr>\n",
       "  </tbody>\n",
       "</table>\n",
       "</div>"
      ],
      "text/plain": [
       "         Borough  Average Rating\n",
       "2      Manhattan        8.312500\n",
       "1       Brooklyn        7.437037\n",
       "0          Bronx        6.614286\n",
       "4  Staten Island        6.360000\n",
       "3         Queens        5.990789"
      ]
     },
     "execution_count": 33,
     "metadata": {},
     "output_type": "execute_result"
    }
   ],
   "source": [
    "ny_borough_stats.sort_values(['Average Rating'],ascending=False).head()"
   ]
  },
  {
   "cell_type": "markdown",
   "metadata": {},
   "source": [
    "#### Lets Visualize it."
   ]
  },
  {
   "cell_type": "code",
   "execution_count": 34,
   "metadata": {},
   "outputs": [
    {
     "data": {
      "image/png": "[encoded data removed]",
      "text/plain": [
       "<Figure size 900x500 with 1 Axes>"
      ]
     },
     "metadata": {
      "needs_background": "light"
     },
     "output_type": "display_data"
    }
   ],
   "source": [
    "plt.figure(figsize=(9,5), dpi = 100)\n",
    "# title\n",
    "plt.title('Average rating of Indian Resturants for each Borough')\n",
    "#On x-axis\n",
    "plt.xlabel('Borough', fontsize = 15)\n",
    "#On y-axis\n",
    "plt.ylabel('Average Rating', fontsize=15)\n",
    "#giving a bar plot\n",
    "indian_rest_stats_ny.groupby('Borough').mean()['Rating'].plot(kind='bar')\n",
    "#legend\n",
    "plt.legend()\n",
    "#displays the plot\n",
    "plt.show()"
   ]
  },
  {
   "cell_type": "markdown",
   "metadata": {},
   "source": [
    "#### We will consider all the neighborhoods with average rating greater or equal 9.0 to visualize on map."
   ]
  },
  {
   "cell_type": "code",
   "execution_count": 35,
   "metadata": {},
   "outputs": [],
   "source": [
    "ny_neighborhood_stats=ny_neighborhood_stats[ny_neighborhood_stats['Average Rating']>=9.0]"
   ]
  },
  {
   "cell_type": "code",
   "execution_count": 36,
   "metadata": {},
   "outputs": [
    {
     "data": {
      "text/html": [
       "<div>\n",
       "<style scoped>\n",
       "    .dataframe tbody tr th:only-of-type {\n",
       "        vertical-align: middle;\n",
       "    }\n",
       "\n",
       "    .dataframe tbody tr th {\n",
       "        vertical-align: top;\n",
       "    }\n",
       "\n",
       "    .dataframe thead th {\n",
       "        text-align: right;\n",
       "    }\n",
       "</style>\n",
       "<table border=\"1\" class=\"dataframe\">\n",
       "  <thead>\n",
       "    <tr style=\"text-align: right;\">\n",
       "      <th></th>\n",
       "      <th>Neighborhood</th>\n",
       "      <th>Average Rating</th>\n",
       "    </tr>\n",
       "  </thead>\n",
       "  <tbody>\n",
       "    <tr>\n",
       "      <td>4</td>\n",
       "      <td>Blissville</td>\n",
       "      <td>9.1</td>\n",
       "    </tr>\n",
       "    <tr>\n",
       "      <td>11</td>\n",
       "      <td>Civic Center</td>\n",
       "      <td>9.0</td>\n",
       "    </tr>\n",
       "    <tr>\n",
       "      <td>65</td>\n",
       "      <td>Sunnyside</td>\n",
       "      <td>9.1</td>\n",
       "    </tr>\n",
       "    <tr>\n",
       "      <td>69</td>\n",
       "      <td>Tribeca</td>\n",
       "      <td>9.0</td>\n",
       "    </tr>\n",
       "  </tbody>\n",
       "</table>\n",
       "</div>"
      ],
      "text/plain": [
       "    Neighborhood  Average Rating\n",
       "4     Blissville             9.1\n",
       "11  Civic Center             9.0\n",
       "65     Sunnyside             9.1\n",
       "69       Tribeca             9.0"
      ]
     },
     "execution_count": 36,
     "metadata": {},
     "output_type": "execute_result"
    }
   ],
   "source": [
    "ny_neighborhood_stats"
   ]
  },
  {
   "cell_type": "markdown",
   "metadata": {},
   "source": [
    "#### We will join this dataset to original new york data to get lonitude and latitude."
   ]
  },
  {
   "cell_type": "code",
   "execution_count": 37,
   "metadata": {},
   "outputs": [],
   "source": [
    "ny_neighborhood_stats=pd.merge(ny_neighborhood_stats,new_york_data, on='Neighborhood')"
   ]
  },
  {
   "cell_type": "code",
   "execution_count": 38,
   "metadata": {},
   "outputs": [],
   "source": [
    "ny_neighborhood_stats=ny_neighborhood_stats[['Borough','Neighborhood','Latitude','Longitude','Average Rating']]"
   ]
  },
  {
   "cell_type": "code",
   "execution_count": 39,
   "metadata": {},
   "outputs": [
    {
     "data": {
      "text/html": [
       "<div>\n",
       "<style scoped>\n",
       "    .dataframe tbody tr th:only-of-type {\n",
       "        vertical-align: middle;\n",
       "    }\n",
       "\n",
       "    .dataframe tbody tr th {\n",
       "        vertical-align: top;\n",
       "    }\n",
       "\n",
       "    .dataframe thead th {\n",
       "        text-align: right;\n",
       "    }\n",
       "</style>\n",
       "<table border=\"1\" class=\"dataframe\">\n",
       "  <thead>\n",
       "    <tr style=\"text-align: right;\">\n",
       "      <th></th>\n",
       "      <th>Borough</th>\n",
       "      <th>Neighborhood</th>\n",
       "      <th>Latitude</th>\n",
       "      <th>Longitude</th>\n",
       "      <th>Average Rating</th>\n",
       "    </tr>\n",
       "  </thead>\n",
       "  <tbody>\n",
       "    <tr>\n",
       "      <td>0</td>\n",
       "      <td>Queens</td>\n",
       "      <td>Blissville</td>\n",
       "      <td>40.737251</td>\n",
       "      <td>-73.932442</td>\n",
       "      <td>9.1</td>\n",
       "    </tr>\n",
       "    <tr>\n",
       "      <td>1</td>\n",
       "      <td>Manhattan</td>\n",
       "      <td>Civic Center</td>\n",
       "      <td>40.715229</td>\n",
       "      <td>-74.005415</td>\n",
       "      <td>9.0</td>\n",
       "    </tr>\n",
       "    <tr>\n",
       "      <td>2</td>\n",
       "      <td>Queens</td>\n",
       "      <td>Sunnyside</td>\n",
       "      <td>40.740176</td>\n",
       "      <td>-73.926916</td>\n",
       "      <td>9.1</td>\n",
       "    </tr>\n",
       "    <tr>\n",
       "      <td>3</td>\n",
       "      <td>Staten Island</td>\n",
       "      <td>Sunnyside</td>\n",
       "      <td>40.612760</td>\n",
       "      <td>-74.097126</td>\n",
       "      <td>9.1</td>\n",
       "    </tr>\n",
       "    <tr>\n",
       "      <td>4</td>\n",
       "      <td>Manhattan</td>\n",
       "      <td>Tribeca</td>\n",
       "      <td>40.721522</td>\n",
       "      <td>-74.010683</td>\n",
       "      <td>9.0</td>\n",
       "    </tr>\n",
       "  </tbody>\n",
       "</table>\n",
       "</div>"
      ],
      "text/plain": [
       "         Borough  Neighborhood   Latitude  Longitude  Average Rating\n",
       "0         Queens    Blissville  40.737251 -73.932442             9.1\n",
       "1      Manhattan  Civic Center  40.715229 -74.005415             9.0\n",
       "2         Queens     Sunnyside  40.740176 -73.926916             9.1\n",
       "3  Staten Island     Sunnyside  40.612760 -74.097126             9.1\n",
       "4      Manhattan       Tribeca  40.721522 -74.010683             9.0"
      ]
     },
     "execution_count": 39,
     "metadata": {},
     "output_type": "execute_result"
    }
   ],
   "source": [
    "ny_neighborhood_stats"
   ]
  },
  {
   "cell_type": "markdown",
   "metadata": {},
   "source": [
    "#### Finally, Let's show this data on a map."
   ]
  },
  {
   "cell_type": "code",
   "execution_count": 40,
   "metadata": {},
   "outputs": [],
   "source": [
    "ny_map = folium.Map(location=geo_location('New York'), zoom_start=12)"
   ]
  },
  {
   "cell_type": "code",
   "execution_count": 41,
   "metadata": {},
   "outputs": [],
   "source": [
    "# instantiate a feature group for the incidents in the dataframe\n",
    "incidents = folium.map.FeatureGroup()\n",
    "\n",
    "# loop through the neighborhood and add each to the feature group\n",
    "for lat, lng, in ny_neighborhood_stats[['Latitude','Longitude']].values:\n",
    "    incidents.add_child(\n",
    "        folium.CircleMarker(\n",
    "            [lat, lng],\n",
    "            radius=10, # define how big you want the circle markers to be\n",
    "            color='yellow',\n",
    "            fill=True,\n",
    "            fill_color='blue',\n",
    "            fill_opacity=0.6\n",
    "        )\n",
    "    )"
   ]
  },
  {
   "cell_type": "code",
   "execution_count": 42,
   "metadata": {},
   "outputs": [],
   "source": [
    "ny_neighborhood_stats['Label']=ny_neighborhood_stats['Neighborhood']+', '+ny_neighborhood_stats['Borough']+'('+ny_neighborhood_stats['Average Rating'].map(str)+')'"
   ]
  },
  {
   "cell_type": "code",
   "execution_count": 46,
   "metadata": {
    "scrolled": true
   },
   "outputs": [
    {
     "data": {
      "text/html": [
       "<div style=\"width:100%;\"><div style=\"position:relative;width:100%;height:0;padding-bottom:60%;\"><span style=\"color:#565656\">Make this Notebook Trusted to load map: File -> Trust Notebook</span><iframe src=\"about:blank\" style=\"position:absolute;width:100%;height:100%;left:0;top:0;border:none !important;\" data-html=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 onload=\"this.contentDocument.open();this.contentDocument.write(atob(this.getAttribute('data-html')));this.contentDocument.close();\" allowfullscreen webkitallowfullscreen mozallowfullscreen></iframe></div></div>"
      ],
      "text/plain": [
       "<folium.folium.Map at 0x1cbd9376748>"
      ]
     },
     "execution_count": 46,
     "metadata": {},
     "output_type": "execute_result"
    }
   ],
   "source": [
    "# add pop-up text to each marker on the map\n",
    "for lat, lng, label in ny_neighborhood_stats[['Latitude','Longitude','Label']].values:\n",
    "    folium.Marker([lat, lng], popup=label).add_to(ny_map)        \n",
    "# add incidents to map\n",
    "ny_map.add_child(incidents)"
   ]
  },
  {
   "cell_type": "code",
   "execution_count": null,
   "metadata": {},
   "outputs": [],
   "source": []
  },
  {
   "cell_type": "code",
   "execution_count": null,
   "metadata": {},
   "outputs": [],
   "source": []
  },
  {
   "cell_type": "markdown",
   "metadata": {},
   "source": [
    "## 6. Conclusion"
   ]
  },
  {
   "cell_type": "markdown",
   "metadata": {},
   "source": [
    "### Now, with all the analysis done, we found answers to all the questions below:-"
   ]
  },
  {
   "cell_type": "markdown",
   "metadata": {},
   "source": [
    "1. Which areas have best Indian restaurants? - Blissville (Queens), Civic Center(Manhattan), Sunnyside (Queens) are some of the   best Neighborhoods with Indian Restaurants\n",
    "2. Top ranked Indian restaurants in New York City are Seva Indian Cuisine (Rating-9.1), Tamarind TriBeca (Likes-600), Bhatti Indian Grill (Tips-162).\n",
    "3. Which areas are suitable for living if one prefers Indian cuisine? - Manhattan is the suitable place to stay if one prefers    Indian cuisine since the average rating of Restaurants in Manhattan is the highest (8.31).\n",
    "4. Which areas lack good Indian restaurants - Staten Island.\n",
    "5. Which all areas have potential Indian Restaurant market - Manhattan & Brooklyn have potential Indian Restaurant market."
   ]
  },
  {
   "cell_type": "code",
   "execution_count": null,
   "metadata": {},
   "outputs": [],
   "source": []
  },
  {
   "cell_type": "code",
   "execution_count": null,
   "metadata": {},
   "outputs": [],
   "source": []
  }
 ],
 "metadata": {
  "kernelspec": {
   "display_name": "Python 3",
   "language": "python",
   "name": "python3"
  },
  "language_info": {
   "codemirror_mode": {
    "name": "ipython",
    "version": 3
   },
   "file_extension": ".py",
   "mimetype": "text/x-python",
   "name": "python",
   "nbconvert_exporter": "python",
   "pygments_lexer": "ipython3",
   "version": "3.7.4"
  }
 },
 "nbformat": 4,
 "nbformat_minor": 2
}
