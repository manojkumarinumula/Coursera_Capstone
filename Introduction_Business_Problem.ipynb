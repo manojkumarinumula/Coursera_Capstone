{
 "cells": [
  {
   "cell_type": "markdown",
   "metadata": {},
   "source": [
    "# Capstone Project - The Battle of Neighborhoods (Week 1)"
   ]
  },
  {
   "cell_type": "markdown",
   "metadata": {},
   "source": [
    "### Introduction:"
   ]
  },
  {
   "cell_type": "markdown",
   "metadata": {},
   "source": [
    "New York City (NYC), officially New York, is the most populous city in the United States. With an estimated 2019 population of 8,336,817 distributed over about 302.6 square miles (784 km2), New York City is also the most densely populated major city in the United States.Located at the southern tip of the U.S. state of New York, the city is the center of the New York metropolitan area, the largest metropolitan area in the world by urban landmass. With almost 20 million people in its metropolitan statistical area and approximately 23 million in its combined statistical area, it is one of the world's most populous megacities. New York City has been described as the cultural, financial, and media capital of the world, significantly influencing commerce, entertainment, research, technology, education, politics, tourism, art, fashion, and sports. Home to the headquarters of the United Nations, New York is an important center for international diplomacy."
   ]
  },
  {
   "cell_type": "markdown",
   "metadata": {},
   "source": [
    "New York is often considered one of the greatest cultural hubs in the country, having welcomed immigrants long before the days of Ellis Island. Immigrants now account for nearly one-quarter of the state’s total population and make up more than one-fourth of its labor force. As neighbors, business owners, taxpayers, and workers, immigrants are an integral part of New York’s diverse and thriving communities and make extensive contributions that benefit all."
   ]
  },
  {
   "cell_type": "markdown",
   "metadata": {},
   "source": [
    "Nearly a quarter of New York residents are immigrants, while almost one-fifth of residents are native-born U.S. citizens with at least one immigrant parent."
   ]
  },
  {
   "cell_type": "markdown",
   "metadata": {},
   "source": [
    "The cuisine of New York City comprises many cuisines belonging to various ethnic groups that have entered the United States through the city. Almost all ethnic cuisines are well represented in New York, both within and outside the various ethnic neighborhoods.New York was also the founding city of New York Restaurant Week which has spread around the world due to the discounted prices that such a deal offers. In New York there are over 12,000 bodegas, delis, and groceries, and many among them are open 24 hours a day, 7 days a week."
   ]
  },
  {
   "cell_type": "markdown",
   "metadata": {},
   "source": [
    "## Business Problem:"
   ]
  },
  {
   "cell_type": "markdown",
   "metadata": {},
   "source": [
    "The main aim of this project is to answer the following questions:"
   ]
  },
  {
   "cell_type": "markdown",
   "metadata": {},
   "source": [
    "1) List and visualize all major parts of New York City that has great Indian restaurants.\n",
    "\n",
    "2) What is best location in New York City for Indian Cuisine?\n",
    "\n",
    "3) Which areas have potential Indian Restaurant Market?\n",
    "\n",
    "4) Which all areas lack Indian Restaurants?\n",
    "\n",
    "5) Which is the best place to stay if you prefer Indian Cuisine?"
   ]
  },
  {
   "cell_type": "code",
   "execution_count": null,
   "metadata": {},
   "outputs": [],
   "source": []
  }
 ],
 "metadata": {
  "kernelspec": {
   "display_name": "Python 3",
   "language": "python",
   "name": "python3"
  },
  "language_info": {
   "codemirror_mode": {
    "name": "ipython",
    "version": 3
   },
   "file_extension": ".py",
   "mimetype": "text/x-python",
   "name": "python",
   "nbconvert_exporter": "python",
   "pygments_lexer": "ipython3",
   "version": "3.7.4"
  }
 },
 "nbformat": 4,
 "nbformat_minor": 2
}
